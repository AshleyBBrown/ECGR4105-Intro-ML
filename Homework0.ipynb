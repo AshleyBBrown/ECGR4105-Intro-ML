{
  "nbformat": 4,
  "nbformat_minor": 0,
  "metadata": {
    "colab": {
      "provenance": [],
      "collapsed_sections": []
    },
    "kernelspec": {
      "name": "python3",
      "display_name": "Python 3"
    },
    "language_info": {
      "name": "python"
    }
  },
  "cells": [
    {
      "cell_type": "markdown",
      "source": [
        "Ashley Brown, 9/18/22\n",
        "\n",
        "ID 801055033\n",
        "\n",
        "Homework 0"
      ],
      "metadata": {
        "id": "6oa5NZvBE-hV"
      }
    },
    {
      "cell_type": "code",
      "execution_count": 2,
      "metadata": {
        "id": "3IXTYGdV1hGy"
      },
      "outputs": [],
      "source": [
        "#imports\n",
        "import numpy as np \n",
        "import pandas as pd \n",
        "import matplotlib.pyplot as plt "
      ]
    },
    {
      "cell_type": "code",
      "source": [
        "#configure data sets\n",
        "data_set = '/content/drive/MyDrive/IntroToMachineLearning/D3.csv'\n",
        "df = pd.read_csv(data_set)\n",
        "df.head() # get first n rows from the dataset, default value of n is 5 \n",
        "m=len(df) \n",
        "m #print for verification"
      ],
      "metadata": {
        "colab": {
          "base_uri": "https://localhost:8080/"
        },
        "id": "VNC2if532Asq",
        "outputId": "a2bb6c12-a23b-49fa-c434-e7f1b9624e90"
      },
      "execution_count": 3,
      "outputs": [
        {
          "output_type": "execute_result",
          "data": {
            "text/plain": [
              "100"
            ]
          },
          "metadata": {},
          "execution_count": 3
        }
      ]
    },
    {
      "cell_type": "code",
      "source": [
        "#get input values for each variable\n",
        "x1 = df.values[:, 0]  # get input values from first column \n",
        "x2 = df.values[:, 1]  # get input values from second column \n",
        "x3 = df.values[:, 2]  # get input values from third column \n",
        "y = df.values[:, 3]  # get output values from fourth column \n",
        "m = len(y) # number of training examples \n",
        "#print first five values of each column for verification\n",
        "print('x1 = ', x1[: 5])\n",
        "print('x2 = ', x2[: 5])\n",
        "print('x2 = ', x2[: 5])\n",
        "print('y = ', y[: 5]) \n",
        "print('m = ', m)"
      ],
      "metadata": {
        "colab": {
          "base_uri": "https://localhost:8080/"
        },
        "id": "uK6b-vIl5y8M",
        "outputId": "84b54f1c-106c-4230-9fb7-a296e71b9114"
      },
      "execution_count": 4,
      "outputs": [
        {
          "output_type": "stream",
          "name": "stdout",
          "text": [
            "x1 =  [0.         0.04040404 0.08080808 0.12121212 0.16161616]\n",
            "x2 =  [3.44       0.1349495  0.82989899 1.52484848 2.21979798]\n",
            "x2 =  [3.44       0.1349495  0.82989899 1.52484848 2.21979798]\n",
            "y =  [4.38754501 2.6796499  2.96848981 3.25406475 3.53637472]\n",
            "m =  100\n"
          ]
        }
      ]
    },
    {
      "cell_type": "code",
      "source": [
        "#plot x1\n",
        "\"\"\" \n",
        "  plt.scatter(x1,y, color='red',marker= '+')\n",
        "  plt.grid() \n",
        "  plt.rcParams[\"figure.figsize\"] = (10,6) \n",
        "  plt.xlabel('x1') \n",
        "  plt.ylabel('y') \n",
        "  plt.title('scatter plot of training data x1') \n",
        "\"\"\" "
      ],
      "metadata": {
        "colab": {
          "base_uri": "https://localhost:8080/",
          "height": 53
        },
        "id": "NV-UVIpL8LEn",
        "outputId": "3d4ca4e6-6a51-48eb-93f8-4f8c578f1a10"
      },
      "execution_count": 5,
      "outputs": [
        {
          "output_type": "execute_result",
          "data": {
            "text/plain": [
              "' \\n  plt.scatter(x1,y, color=\\'red\\',marker= \\'+\\')\\n  plt.grid() \\n  plt.rcParams[\"figure.figsize\"] = (10,6) \\n  plt.xlabel(\\'x1\\') \\n  plt.ylabel(\\'y\\') \\n  plt.title(\\'scatter plot of training data x1\\') \\n'"
            ],
            "application/vnd.google.colaboratory.intrinsic+json": {
              "type": "string"
            }
          },
          "metadata": {},
          "execution_count": 5
        }
      ]
    },
    {
      "cell_type": "code",
      "source": [
        "#plot x2\n",
        "\"\"\" \n",
        "  plt.scatter(x2,y, color='blue',marker= '+')\n",
        "  plt.grid() \n",
        "  plt.rcParams[\"figure.figsize\"] = (10,6) \n",
        "  plt.xlabel('x2') \n",
        "  plt.ylabel('y') \n",
        "  plt.title('scatter plot of training data x2') \n",
        "\"\"\" "
      ],
      "metadata": {
        "colab": {
          "base_uri": "https://localhost:8080/",
          "height": 53
        },
        "id": "CYRGBmPB875E",
        "outputId": "0e8efe55-99bd-4549-dd77-432680d80360"
      },
      "execution_count": 6,
      "outputs": [
        {
          "output_type": "execute_result",
          "data": {
            "text/plain": [
              "' \\n  plt.scatter(x2,y, color=\\'blue\\',marker= \\'+\\')\\n  plt.grid() \\n  plt.rcParams[\"figure.figsize\"] = (10,6) \\n  plt.xlabel(\\'x2\\') \\n  plt.ylabel(\\'y\\') \\n  plt.title(\\'scatter plot of training data x2\\') \\n'"
            ],
            "application/vnd.google.colaboratory.intrinsic+json": {
              "type": "string"
            }
          },
          "metadata": {},
          "execution_count": 6
        }
      ]
    },
    {
      "cell_type": "code",
      "source": [
        "#plot x3\n",
        "\"\"\" \n",
        "  plt.scatter(x3,y, color='green',marker= '+')\n",
        "  plt.grid() \n",
        "  plt.rcParams[\"figure.figsize\"] = (10,6) \n",
        "  plt.xlabel('x3') \n",
        "  plt.ylabel('y') \n",
        "  plt.title('scatter plot of training data x3') \n",
        "\"\"\" "
      ],
      "metadata": {
        "colab": {
          "base_uri": "https://localhost:8080/",
          "height": 53
        },
        "id": "JAFolyZu87_P",
        "outputId": "b5bf9ec8-0df4-413b-bee6-55c8e1a0c32a"
      },
      "execution_count": 7,
      "outputs": [
        {
          "output_type": "execute_result",
          "data": {
            "text/plain": [
              "' \\n  plt.scatter(x3,y, color=\\'green\\',marker= \\'+\\')\\n  plt.grid() \\n  plt.rcParams[\"figure.figsize\"] = (10,6) \\n  plt.xlabel(\\'x3\\') \\n  plt.ylabel(\\'y\\') \\n  plt.title(\\'scatter plot of training data x3\\') \\n'"
            ],
            "application/vnd.google.colaboratory.intrinsic+json": {
              "type": "string"
            }
          },
          "metadata": {},
          "execution_count": 7
        }
      ]
    },
    {
      "cell_type": "markdown",
      "source": [
        "Problem 1 (50 points)\n",
        "\n",
        "Develop a code that run linear regression with gradient decent algorithm for each of the explanatory variables in isolation. In this case, you assume that in each iteration, only one explanatory variable (either X1, or X2, or X3) is explaining the output. Basically, you need to do three different training, one per each explanatory variable. For the learning rate, explore different values between 0.1 and 0.01 (your choice). Initialize your parameters to zero (theta to zero).\n",
        "\n",
        "1. Report the linear model you found for each explanatory variable.\n",
        "2. Plot the final regression model and loss over the iteration per each explanatory variable.\n",
        "3. Which explanatory variable has the lower loss (cost) for explaining the output (Y)?\n",
        "4. Based on your training observations, describe the impact of the different learning rates on the final loss and number of training iteration."
      ],
      "metadata": {
        "id": "-bG5e_gT6nn6"
      }
    },
    {
      "cell_type": "markdown",
      "source": [
        "------------------x1-------------------------------------------------\n",
        "\n",
        ".\n",
        "\n",
        ".\n",
        "\n",
        ".\n",
        "\n",
        "------------------x1-------------------------------------------------"
      ],
      "metadata": {
        "id": "qjZdjjY4Pops"
      }
    },
    {
      "cell_type": "code",
      "source": [
        "#create matrix of ones for x1\n",
        "x1_0 = np.ones((m, 1)) \n",
        "x1_0[:5] #print for verification"
      ],
      "metadata": {
        "colab": {
          "base_uri": "https://localhost:8080/"
        },
        "id": "bMIJpUga-aMu",
        "outputId": "822635ee-fc2b-4ffa-9f4c-a1db82a13fef"
      },
      "execution_count": 8,
      "outputs": [
        {
          "output_type": "execute_result",
          "data": {
            "text/plain": [
              "array([[1.],\n",
              "       [1.],\n",
              "       [1.],\n",
              "       [1.],\n",
              "       [1.]])"
            ]
          },
          "metadata": {},
          "execution_count": 8
        }
      ]
    },
    {
      "cell_type": "code",
      "source": [
        "# convert x1 into 2d array of dimension 100x1\n",
        "x1_1 = x1.reshape(m, 1) \n",
        "x1_1[:10] #print for verification"
      ],
      "metadata": {
        "colab": {
          "base_uri": "https://localhost:8080/"
        },
        "id": "L25Zbax8-7LU",
        "outputId": "d316d763-408d-4a93-a7f0-255781791560"
      },
      "execution_count": 9,
      "outputs": [
        {
          "output_type": "execute_result",
          "data": {
            "text/plain": [
              "array([[0.        ],\n",
              "       [0.04040404],\n",
              "       [0.08080808],\n",
              "       [0.12121212],\n",
              "       [0.16161616],\n",
              "       [0.2020202 ],\n",
              "       [0.24242424],\n",
              "       [0.28282828],\n",
              "       [0.32323232],\n",
              "       [0.36363636]])"
            ]
          },
          "metadata": {},
          "execution_count": 9
        }
      ]
    },
    {
      "cell_type": "code",
      "source": [
        "# turn x1 0 and x1 1 into a column, creating our final x1 matrix \n",
        "x1 = np.hstack((x1_0, x1_1)) \n",
        "x1[:5] #print for verification\n",
        "# m is the number of training examples\n",
        "# n is the number of features"
      ],
      "metadata": {
        "colab": {
          "base_uri": "https://localhost:8080/"
        },
        "id": "FofvVzwO_WDs",
        "outputId": "3ec4b2fc-270c-423e-dc40-dd33cbeb2f10"
      },
      "execution_count": 10,
      "outputs": [
        {
          "output_type": "execute_result",
          "data": {
            "text/plain": [
              "array([[1.        , 0.        ],\n",
              "       [1.        , 0.04040404],\n",
              "       [1.        , 0.08080808],\n",
              "       [1.        , 0.12121212],\n",
              "       [1.        , 0.16161616]])"
            ]
          },
          "metadata": {},
          "execution_count": 10
        }
      ]
    },
    {
      "cell_type": "code",
      "source": [
        "#create our theta\n",
        "theta = np.zeros(2) \n",
        "theta #print for verification"
      ],
      "metadata": {
        "colab": {
          "base_uri": "https://localhost:8080/"
        },
        "id": "vfMMLwNV_gkw",
        "outputId": "e713aa7b-463b-478c-c99a-c7c30978ffac"
      },
      "execution_count": 11,
      "outputs": [
        {
          "output_type": "execute_result",
          "data": {
            "text/plain": [
              "array([0., 0.])"
            ]
          },
          "metadata": {},
          "execution_count": 11
        }
      ]
    },
    {
      "cell_type": "code",
      "source": [
        "#linear regression loss for x (using formula from class)\n",
        "#generalized so it can be reused for x1, x2, x3\n",
        "def compute_loss(x, y, theta): \n",
        "\n",
        "  predictions = x.dot(theta) \n",
        "  errors = np.subtract(predictions, y) \n",
        "  sqrErrors = np.square(errors) \n",
        "  J = 1 / (2 * m) * np.sum(sqrErrors) \n",
        " \n",
        "  return J "
      ],
      "metadata": {
        "id": "E_ghNpgR_4Ld"
      },
      "execution_count": 12,
      "outputs": []
    },
    {
      "cell_type": "code",
      "source": [
        "# compute the loss for theta values (not required but helps debug)\n",
        "loss = compute_loss(x1, y, theta) \n",
        "print('The loss for given values of theta_0 and theta_1 =', loss) "
      ],
      "metadata": {
        "colab": {
          "base_uri": "https://localhost:8080/"
        },
        "id": "qtqG9DvHEgXQ",
        "outputId": "06cd0e3f-a3af-4855-d9cc-84129f3f61bf"
      },
      "execution_count": 13,
      "outputs": [
        {
          "output_type": "stream",
          "name": "stdout",
          "text": [
            "The loss for given values of theta_0 and theta_1 = 5.524438459196242\n"
          ]
        }
      ]
    },
    {
      "cell_type": "code",
      "source": [
        "#py version of gradient descent formula from class\n",
        "#generalized so it can be reused for x1, x2, x3\n",
        "def gradient_descent(input, y, theta, alpha, iterations): \n",
        "\n",
        "  loss_history = np.zeros(iterations) \n",
        " \n",
        "  for i in range(iterations): \n",
        "    predictions = input.dot(theta) \n",
        "    errors = np.subtract(predictions, y) \n",
        "    sum_delta = (alpha / m) * input.transpose().dot(errors); \n",
        "    theta = theta - sum_delta; \n",
        "    loss_history[i] = compute_loss(input, y, theta)   \n",
        "    \n",
        "  return theta, loss_history "
      ],
      "metadata": {
        "id": "E3UvwxpIAY7u"
      },
      "execution_count": 14,
      "outputs": []
    },
    {
      "cell_type": "code",
      "source": [
        "# lets define some variables\n",
        "theta = [0., 0.] \n",
        "iterations = 1500\n",
        "alpha = 0.01 # learning rate, change this for part 4"
      ],
      "metadata": {
        "id": "Y3gv-gceAoYv"
      },
      "execution_count": 15,
      "outputs": []
    },
    {
      "cell_type": "code",
      "source": [
        "# calculate our final theta and loss history\n",
        "theta, loss_history = gradient_descent(x1, y, theta, alpha, iterations) \n",
        "print('final theta =', theta) \n",
        "print('loss_history =', loss_history) "
      ],
      "metadata": {
        "colab": {
          "base_uri": "https://localhost:8080/"
        },
        "id": "_1KRhB27CLht",
        "outputId": "cc1ed6f3-6b02-4a1f-a772-09769641705e"
      },
      "execution_count": 16,
      "outputs": [
        {
          "output_type": "stream",
          "name": "stdout",
          "text": [
            "final theta = [ 5.71850653 -1.9568206 ]\n",
            "loss_history = [5.48226715 5.44290965 5.40604087 ... 0.99063932 0.99061433 0.99058944]\n"
          ]
        }
      ]
    },
    {
      "cell_type": "code",
      "source": [
        "# plot linear model for x1\n",
        "plt.scatter(x1[:,1], y, color='red', marker= '+', label= 'training data') \n",
        "plt.plot(x1[:,1],x1.dot(theta), color='purple', label='linear regression fit') \n",
        " \n",
        "plt.rcParams[\"figure.figsize\"] = (10,6) \n",
        "plt.grid() \n",
        "plt.xlabel('x1') \n",
        "plt.ylabel('y') \n",
        "plt.title('linear regression fit for data set x1') \n",
        "plt.legend() "
      ],
      "metadata": {
        "colab": {
          "base_uri": "https://localhost:8080/",
          "height": 312
        },
        "id": "rImJGe9yCtt5",
        "outputId": "c5e7f627-eb7d-4356-937e-e1e9f76b28a7"
      },
      "execution_count": 17,
      "outputs": [
        {
          "output_type": "execute_result",
          "data": {
            "text/plain": [
              "<matplotlib.legend.Legend at 0x7f040dc2d0d0>"
            ]
          },
          "metadata": {},
          "execution_count": 17
        },
        {
          "output_type": "display_data",
          "data": {
            "text/plain": [
              "<Figure size 432x288 with 1 Axes>"
            ],
            "image/png": "[encoded data removed]"
          },
          "metadata": {
            "needs_background": "light"
          }
        }
      ]
    },
    {
      "cell_type": "code",
      "source": [
        "#plot convergence of gradient descent (part 2 of problem 1)\n",
        "plt.plot(range(1, iterations + 1),loss_history, color='red') \n",
        "plt.rcParams[\"figure.figsize\"] = (10,6) \n",
        "plt.grid() \n",
        "plt.xlabel('no. iterations') \n",
        "plt.ylabel('J (loss)') \n",
        "plt.title('convergence of gradient descent for x1') "
      ],
      "metadata": {
        "colab": {
          "base_uri": "https://localhost:8080/",
          "height": 421
        },
        "id": "kFV9gLW2MyrR",
        "outputId": "123b8a70-fa35-4012-b332-63f873f2942a"
      },
      "execution_count": 18,
      "outputs": [
        {
          "output_type": "execute_result",
          "data": {
            "text/plain": [
              "Text(0.5, 1.0, 'convergence of gradient descent for x1')"
            ]
          },
          "metadata": {},
          "execution_count": 18
        },
        {
          "output_type": "display_data",
          "data": {
            "text/plain": [
              "<Figure size 720x432 with 1 Axes>"
            ],
            "image/png": "[encoded data removed]"
          },
          "metadata": {
            "needs_background": "light"
          }
        }
      ]
    },
    {
      "cell_type": "markdown",
      "source": [
        "------------------x2-------------------------------------------------\n",
        "\n",
        ".\n",
        "\n",
        ".\n",
        "\n",
        ".\n",
        "\n",
        "------------------x2-------------------------------------------------"
      ],
      "metadata": {
        "id": "ABPieJRzPtXh"
      }
    },
    {
      "cell_type": "code",
      "source": [
        "#create matrix of ones for x2\n",
        "x2_0 = np.ones((m, 1)) \n",
        "x2_0[:5] #print for verification"
      ],
      "metadata": {
        "colab": {
          "base_uri": "https://localhost:8080/"
        },
        "id": "6NCkOSdQRCGo",
        "outputId": "b14da58e-df6a-4218-9adc-51f5b9bd3be2"
      },
      "execution_count": 19,
      "outputs": [
        {
          "output_type": "execute_result",
          "data": {
            "text/plain": [
              "array([[1.],\n",
              "       [1.],\n",
              "       [1.],\n",
              "       [1.],\n",
              "       [1.]])"
            ]
          },
          "metadata": {},
          "execution_count": 19
        }
      ]
    },
    {
      "cell_type": "code",
      "source": [
        "# convert x2 into 2d array of dimension 100x1\n",
        "x2_1 = x2.reshape(m, 1) \n",
        "x2_1[:10] #print for verification"
      ],
      "metadata": {
        "colab": {
          "base_uri": "https://localhost:8080/"
        },
        "id": "NCZS8h1zRCUG",
        "outputId": "a941b335-3119-4746-c5c9-0e5d66f49d91"
      },
      "execution_count": 20,
      "outputs": [
        {
          "output_type": "execute_result",
          "data": {
            "text/plain": [
              "array([[3.44      ],\n",
              "       [0.1349495 ],\n",
              "       [0.82989899],\n",
              "       [1.52484848],\n",
              "       [2.21979798],\n",
              "       [2.91474747],\n",
              "       [3.60969697],\n",
              "       [0.30464646],\n",
              "       [0.99959596],\n",
              "       [1.69454546]])"
            ]
          },
          "metadata": {},
          "execution_count": 20
        }
      ]
    },
    {
      "cell_type": "code",
      "source": [
        "# turn x2 0 and x2 1 into a column, creating our final x2 matrix \n",
        "x2 = np.hstack((x2_0, x2_1)) \n",
        "x2[:5] #print for verification\n",
        "# m is the number of training examples\n",
        "# n is the number of features"
      ],
      "metadata": {
        "colab": {
          "base_uri": "https://localhost:8080/"
        },
        "id": "Rj7kzBdXRCbd",
        "outputId": "a818f635-2854-4220-ffd7-3b4190c3f374"
      },
      "execution_count": 21,
      "outputs": [
        {
          "output_type": "execute_result",
          "data": {
            "text/plain": [
              "array([[1.        , 3.44      ],\n",
              "       [1.        , 0.1349495 ],\n",
              "       [1.        , 0.82989899],\n",
              "       [1.        , 1.52484848],\n",
              "       [1.        , 2.21979798]])"
            ]
          },
          "metadata": {},
          "execution_count": 21
        }
      ]
    },
    {
      "cell_type": "code",
      "source": [
        "# lets define some variables\n",
        "theta = [0., 0.] \n",
        "iterations = 1500\n",
        "alpha = 0.01 # learning rate, change this for part 4"
      ],
      "metadata": {
        "id": "mVMpCb9zRCnI"
      },
      "execution_count": 22,
      "outputs": []
    },
    {
      "cell_type": "code",
      "source": [
        "#calculate our final theta and loss history\n",
        "theta, loss_history = gradient_descent(x2, y, theta, alpha, iterations)\n",
        "print('final theta =', theta) \n",
        "print('loss_history =', loss_history) "
      ],
      "metadata": {
        "colab": {
          "base_uri": "https://localhost:8080/"
        },
        "id": "TX6fkPJFRCt2",
        "outputId": "38cce3fe-95d5-4193-d23b-76f945551a27"
      },
      "execution_count": 23,
      "outputs": [
        {
          "output_type": "stream",
          "name": "stdout",
          "text": [
            "final theta = [0.71988473 0.56390334]\n",
            "loss_history = [5.29831663 5.09909109 4.92356115 ... 3.5993997  3.59939955 3.5993994 ]\n"
          ]
        }
      ]
    },
    {
      "cell_type": "code",
      "source": [
        "# plot linear model for x2\n",
        "plt.scatter(x2[:,1], y, color='blue', marker= '+', label= 'training data') \n",
        "plt.plot(x2[:,1],x2.dot(theta), color='purple', label='linear regression fit') \n",
        " \n",
        "plt.rcParams[\"figure.figsize\"] = (10,6) \n",
        "plt.grid() \n",
        "plt.xlabel('x2') \n",
        "plt.ylabel('y') \n",
        "plt.title('linear regression fit for data set x2') \n",
        "plt.legend() "
      ],
      "metadata": {
        "colab": {
          "base_uri": "https://localhost:8080/",
          "height": 421
        },
        "id": "dvw_9H-rRCzv",
        "outputId": "6c98fa4f-2154-4e87-9b64-cf9a7350268e"
      },
      "execution_count": 24,
      "outputs": [
        {
          "output_type": "execute_result",
          "data": {
            "text/plain": [
              "<matplotlib.legend.Legend at 0x7f040d6913d0>"
            ]
          },
          "metadata": {},
          "execution_count": 24
        },
        {
          "output_type": "display_data",
          "data": {
            "text/plain": [
              "<Figure size 720x432 with 1 Axes>"
            ],
            "image/png": "[encoded data removed]"
          },
          "metadata": {
            "needs_background": "light"
          }
        }
      ]
    },
    {
      "cell_type": "code",
      "source": [
        "#plot convergence of gradient descent (part 2 of problem 1) \n",
        "plt.plot(range(1, iterations + 1),loss_history, color='blue') \n",
        "plt.rcParams[\"figure.figsize\"] = (10,6) \n",
        "plt.grid() \n",
        "plt.xlabel('no. iterations') \n",
        "plt.ylabel('J (loss)') \n",
        "plt.title('convergence of gradient descent for x2') "
      ],
      "metadata": {
        "colab": {
          "base_uri": "https://localhost:8080/",
          "height": 421
        },
        "id": "i-S9DRRsRC4e",
        "outputId": "3a9aa51b-794e-4a20-bdfa-55f9e2282676"
      },
      "execution_count": 25,
      "outputs": [
        {
          "output_type": "execute_result",
          "data": {
            "text/plain": [
              "Text(0.5, 1.0, 'convergence of gradient descent for x2')"
            ]
          },
          "metadata": {},
          "execution_count": 25
        },
        {
          "output_type": "display_data",
          "data": {
            "text/plain": [
              "<Figure size 720x432 with 1 Axes>"
            ],
            "image/png": "[encoded data removed]"
          },
          "metadata": {
            "needs_background": "light"
          }
        }
      ]
    },
    {
      "cell_type": "markdown",
      "source": [
        "------------------x3-------------------------------------------------\n",
        "\n",
        ".\n",
        "\n",
        ".\n",
        "\n",
        ".\n",
        "\n",
        "------------------x3-------------------------------------------------"
      ],
      "metadata": {
        "id": "eAajX3igUEPs"
      }
    },
    {
      "cell_type": "code",
      "source": [
        "#create matrix of ones for x3\n",
        "x3_0 = np.ones((m, 1)) \n",
        "x3_0[:5] #print for verification"
      ],
      "metadata": {
        "colab": {
          "base_uri": "https://localhost:8080/"
        },
        "id": "8Ch2uUjcUG59",
        "outputId": "81f931d6-e9c9-4c53-c8e6-64bc9b607d41"
      },
      "execution_count": 26,
      "outputs": [
        {
          "output_type": "execute_result",
          "data": {
            "text/plain": [
              "array([[1.],\n",
              "       [1.],\n",
              "       [1.],\n",
              "       [1.],\n",
              "       [1.]])"
            ]
          },
          "metadata": {},
          "execution_count": 26
        }
      ]
    },
    {
      "cell_type": "code",
      "source": [
        "# convert x3 into 2d array of dimension 100x1\n",
        "x3_1 = x3.reshape(m, 1) \n",
        "x3_1[:10] #print for verification"
      ],
      "metadata": {
        "colab": {
          "base_uri": "https://localhost:8080/"
        },
        "id": "FUiU9bkpUQVv",
        "outputId": "b0672229-3a4f-46de-88e3-0e1f6f73cd9d"
      },
      "execution_count": 27,
      "outputs": [
        {
          "output_type": "execute_result",
          "data": {
            "text/plain": [
              "array([[0.44      ],\n",
              "       [0.88848485],\n",
              "       [1.3369697 ],\n",
              "       [1.78545454],\n",
              "       [2.23393939],\n",
              "       [2.68242424],\n",
              "       [3.13090909],\n",
              "       [3.57939394],\n",
              "       [0.02787879],\n",
              "       [0.47636364]])"
            ]
          },
          "metadata": {},
          "execution_count": 27
        }
      ]
    },
    {
      "cell_type": "code",
      "source": [
        "# turn x3 0 and x3 1 into a column, creating our final x3 matrix \n",
        "x3 = np.hstack((x3_0, x3_1)) \n",
        "x3[:5] #print for verification\n",
        "# m is the number of training examples\n",
        "# n is the number of features"
      ],
      "metadata": {
        "colab": {
          "base_uri": "https://localhost:8080/"
        },
        "id": "ZBRqTemQUQv5",
        "outputId": "872646c5-0d61-4e2e-ff00-5203ec0e84a0"
      },
      "execution_count": 28,
      "outputs": [
        {
          "output_type": "execute_result",
          "data": {
            "text/plain": [
              "array([[1.        , 0.44      ],\n",
              "       [1.        , 0.88848485],\n",
              "       [1.        , 1.3369697 ],\n",
              "       [1.        , 1.78545454],\n",
              "       [1.        , 2.23393939]])"
            ]
          },
          "metadata": {},
          "execution_count": 28
        }
      ]
    },
    {
      "cell_type": "code",
      "source": [
        "# lets define some variables\n",
        "theta = [0., 0.] \n",
        "iterations = 1500\n",
        "alpha = 0.01 # learning rate, change this for part 4"
      ],
      "metadata": {
        "id": "LBfdJI6oUQ5M"
      },
      "execution_count": 29,
      "outputs": []
    },
    {
      "cell_type": "code",
      "source": [
        "#calculate our final theta and loss history\n",
        "theta, loss_history = gradient_descent(x3, y, theta, alpha, iterations)\n",
        "print('final theta =', theta) \n",
        "print('loss_history =', loss_history) "
      ],
      "metadata": {
        "colab": {
          "base_uri": "https://localhost:8080/"
        },
        "id": "Gpf49gJwUQ_K",
        "outputId": "f92a8245-39e0-4cb6-ad9b-4ddad2cda7a4"
      },
      "execution_count": 30,
      "outputs": [
        {
          "output_type": "stream",
          "name": "stdout",
          "text": [
            "final theta = [ 2.78048129 -0.48451631]\n",
            "loss_history = [5.40768785 5.30397076 5.21178297 ... 3.63053597 3.6305311  3.63052625]\n"
          ]
        }
      ]
    },
    {
      "cell_type": "code",
      "source": [
        "# plot linear model for x3\n",
        "plt.scatter(x3[:,1], y, color='green', marker= '+', label= 'training data') \n",
        "plt.plot(x3[:,1],x3.dot(theta), color='purple', label='linear regression fit') \n",
        " \n",
        "plt.rcParams[\"figure.figsize\"] = (10,6) \n",
        "plt.grid() \n",
        "plt.xlabel('x3') \n",
        "plt.ylabel('y') \n",
        "plt.title('linear regression fit for data set x3') \n",
        "plt.legend() "
      ],
      "metadata": {
        "colab": {
          "base_uri": "https://localhost:8080/",
          "height": 421
        },
        "id": "OuSRmOPoUREI",
        "outputId": "725705f6-78cc-42a6-b0e7-4e4acf54fab3"
      },
      "execution_count": 31,
      "outputs": [
        {
          "output_type": "execute_result",
          "data": {
            "text/plain": [
              "<matplotlib.legend.Legend at 0x7f040d55ec50>"
            ]
          },
          "metadata": {},
          "execution_count": 31
        },
        {
          "output_type": "display_data",
          "data": {
            "text/plain": [
              "<Figure size 720x432 with 1 Axes>"
            ],
            "image/png": "[encoded data removed]"
          },
          "metadata": {
            "needs_background": "light"
          }
        }
      ]
    },
    {
      "cell_type": "code",
      "source": [
        "#plot convergence of gradient descent (part 2 of problem 1)\n",
        "plt.plot(range(1, iterations + 1),loss_history, color='green') \n",
        "plt.rcParams[\"figure.figsize\"] = (10,6) \n",
        "plt.grid() \n",
        "plt.xlabel('no. iterations') \n",
        "plt.ylabel('J (loss)') \n",
        "plt.title('convergence of gradient descent for x3') "
      ],
      "metadata": {
        "colab": {
          "base_uri": "https://localhost:8080/",
          "height": 421
        },
        "id": "5CmqQ8JvURIq",
        "outputId": "e03207cd-a90b-42f0-ee54-bff3a75e18e4"
      },
      "execution_count": 32,
      "outputs": [
        {
          "output_type": "execute_result",
          "data": {
            "text/plain": [
              "Text(0.5, 1.0, 'convergence of gradient descent for x3')"
            ]
          },
          "metadata": {},
          "execution_count": 32
        },
        {
          "output_type": "display_data",
          "data": {
            "text/plain": [
              "<Figure size 720x432 with 1 Axes>"
            ],
            "image/png": "[encoded data removed]"
          },
          "metadata": {
            "needs_background": "light"
          }
        }
      ]
    },
    {
      "cell_type": "markdown",
      "source": [
        "Problem 2 (50 points)\n",
        "\n",
        "This time, run linear regression with gradient descent algorithm using all three explanatory variables. For the learning rate, explore different values between 0.1 and 0.01 (your choice). Initialize your parameters (theta to zero).\n",
        "\n",
        "1. Report the final linear model you found the best. \n",
        "2. Plot loss over the iteration.\n",
        "3. Based on your training observations, describe the impact of the different learning rates on the final loss and number of training iteration.\n",
        "4. Predict the value of y for new (X1, X2, X3) values (1, 1, 1), for (2, 0, 4), and for (3, 2, 1)"
      ],
      "metadata": {
        "id": "zKplDO3_eXka"
      }
    },
    {
      "cell_type": "code",
      "source": [
        "df2 = pd.read_csv(data_set)\n",
        "df2 = pd.concat([pd.Series(1, index=df.index, name='00'), df], axis=1)\n",
        "df2.head()\n",
        "# 00 is a column of 1's"
      ],
      "metadata": {
        "colab": {
          "base_uri": "https://localhost:8080/",
          "height": 206
        },
        "id": "hqEtoMgKfO_2",
        "outputId": "ae132f46-5b35-49de-f701-563f15b4cc31"
      },
      "execution_count": 33,
      "outputs": [
        {
          "output_type": "execute_result",
          "data": {
            "text/plain": [
              "   00        X1        X2        X3         Y\n",
              "0   1  0.000000  3.440000  0.440000  4.387545\n",
              "1   1  0.040404  0.134949  0.888485  2.679650\n",
              "2   1  0.080808  0.829899  1.336970  2.968490\n",
              "3   1  0.121212  1.524848  1.785455  3.254065\n",
              "4   1  0.161616  2.219798  2.233939  3.536375"
            ],
            "text/html": [
              "\n",
              "  <div id=\"df-24dccea8-bae1-41cf-939b-cc0765878033\">\n",
              "    <div class=\"colab-df-container\">\n",
              "      <div>\n",
              "<style scoped>\n",
              "    .dataframe tbody tr th:only-of-type {\n",
              "        vertical-align: middle;\n",
              "    }\n",
              "\n",
              "    .dataframe tbody tr th {\n",
              "        vertical-align: top;\n",
              "    }\n",
              "\n",
              "    .dataframe thead th {\n",
              "        text-align: right;\n",
              "    }\n",
              "</style>\n",
              "<table border=\"1\" class=\"dataframe\">\n",
              "  <thead>\n",
              "    <tr style=\"text-align: right;\">\n",
              "      <th></th>\n",
              "      <th>00</th>\n",
              "      <th>X1</th>\n",
              "      <th>X2</th>\n",
              "      <th>X3</th>\n",
              "      <th>Y</th>\n",
              "    </tr>\n",
              "  </thead>\n",
              "  <tbody>\n",
              "    <tr>\n",
              "      <th>0</th>\n",
              "      <td>1</td>\n",
              "      <td>0.000000</td>\n",
              "      <td>3.440000</td>\n",
              "      <td>0.440000</td>\n",
              "      <td>4.387545</td>\n",
              "    </tr>\n",
              "    <tr>\n",
              "      <th>1</th>\n",
              "      <td>1</td>\n",
              "      <td>0.040404</td>\n",
              "      <td>0.134949</td>\n",
              "      <td>0.888485</td>\n",
              "      <td>2.679650</td>\n",
              "    </tr>\n",
              "    <tr>\n",
              "      <th>2</th>\n",
              "      <td>1</td>\n",
              "      <td>0.080808</td>\n",
              "      <td>0.829899</td>\n",
              "      <td>1.336970</td>\n",
              "      <td>2.968490</td>\n",
              "    </tr>\n",
              "    <tr>\n",
              "      <th>3</th>\n",
              "      <td>1</td>\n",
              "      <td>0.121212</td>\n",
              "      <td>1.524848</td>\n",
              "      <td>1.785455</td>\n",
              "      <td>3.254065</td>\n",
              "    </tr>\n",
              "    <tr>\n",
              "      <th>4</th>\n",
              "      <td>1</td>\n",
              "      <td>0.161616</td>\n",
              "      <td>2.219798</td>\n",
              "      <td>2.233939</td>\n",
              "      <td>3.536375</td>\n",
              "    </tr>\n",
              "  </tbody>\n",
              "</table>\n",
              "</div>\n",
              "      <button class=\"colab-df-convert\" onclick=\"convertToInteractive('df-24dccea8-bae1-41cf-939b-cc0765878033')\"\n",
              "              title=\"Convert this dataframe to an interactive table.\"\n",
              "              style=\"display:none;\">\n",
              "        \n",
              "  <svg xmlns=\"http://www.w3.org/2000/svg\" height=\"24px\"viewBox=\"0 0 24 24\"\n",
              "       width=\"24px\">\n",
              "    <path d=\"M0 0h24v24H0V0z\" fill=\"none\"/>\n",
              "    <path d=\"M18.56 5.44l.94 2.06.94-2.06 2.06-.94-2.06-.94-.94-2.06-.94 2.06-2.06.94zm-11 1L8.5 8.5l.94-2.06 2.06-.94-2.06-.94L8.5 2.5l-.94 2.06-2.06.94zm10 10l.94 2.06.94-2.06 2.06-.94-2.06-.94-.94-2.06-.94 2.06-2.06.94z\"/><path d=\"M17.41 7.96l-1.37-1.37c-.4-.4-.92-.59-1.43-.59-.52 0-1.04.2-1.43.59L10.3 9.45l-7.72 7.72c-.78.78-.78 2.05 0 2.83L4 21.41c.39.39.9.59 1.41.59.51 0 1.02-.2 1.41-.59l7.78-7.78 2.81-2.81c.8-.78.8-2.07 0-2.86zM5.41 20L4 18.59l7.72-7.72 1.47 1.35L5.41 20z\"/>\n",
              "  </svg>\n",
              "      </button>\n",
              "      \n",
              "  <style>\n",
              "    .colab-df-container {\n",
              "      display:flex;\n",
              "      flex-wrap:wrap;\n",
              "      gap: 12px;\n",
              "    }\n",
              "\n",
              "    .colab-df-convert {\n",
              "      background-color: #E8F0FE;\n",
              "      border: none;\n",
              "      border-radius: 50%;\n",
              "      cursor: pointer;\n",
              "      display: none;\n",
              "      fill: #1967D2;\n",
              "      height: 32px;\n",
              "      padding: 0 0 0 0;\n",
              "      width: 32px;\n",
              "    }\n",
              "\n",
              "    .colab-df-convert:hover {\n",
              "      background-color: #E2EBFA;\n",
              "      box-shadow: 0px 1px 2px rgba(60, 64, 67, 0.3), 0px 1px 3px 1px rgba(60, 64, 67, 0.15);\n",
              "      fill: #174EA6;\n",
              "    }\n",
              "\n",
              "    [theme=dark] .colab-df-convert {\n",
              "      background-color: #3B4455;\n",
              "      fill: #D2E3FC;\n",
              "    }\n",
              "\n",
              "    [theme=dark] .colab-df-convert:hover {\n",
              "      background-color: #434B5C;\n",
              "      box-shadow: 0px 1px 3px 1px rgba(0, 0, 0, 0.15);\n",
              "      filter: drop-shadow(0px 1px 2px rgba(0, 0, 0, 0.3));\n",
              "      fill: #FFFFFF;\n",
              "    }\n",
              "  </style>\n",
              "\n",
              "      <script>\n",
              "        const buttonEl =\n",
              "          document.querySelector('#df-24dccea8-bae1-41cf-939b-cc0765878033 button.colab-df-convert');\n",
              "        buttonEl.style.display =\n",
              "          google.colab.kernel.accessAllowed ? 'block' : 'none';\n",
              "\n",
              "        async function convertToInteractive(key) {\n",
              "          const element = document.querySelector('#df-24dccea8-bae1-41cf-939b-cc0765878033');\n",
              "          const dataTable =\n",
              "            await google.colab.kernel.invokeFunction('convertToInteractive',\n",
              "                                                     [key], {});\n",
              "          if (!dataTable) return;\n",
              "\n",
              "          const docLinkHtml = 'Like what you see? Visit the ' +\n",
              "            '<a target=\"_blank\" href=https://colab.research.google.com/notebooks/data_table.ipynb>data table notebook</a>'\n",
              "            + ' to learn more about interactive tables.';\n",
              "          element.innerHTML = '';\n",
              "          dataTable['output_type'] = 'display_data';\n",
              "          await google.colab.output.renderOutput(dataTable, element);\n",
              "          const docLink = document.createElement('div');\n",
              "          docLink.innerHTML = docLinkHtml;\n",
              "          element.appendChild(docLink);\n",
              "        }\n",
              "      </script>\n",
              "    </div>\n",
              "  </div>\n",
              "  "
            ]
          },
          "metadata": {},
          "execution_count": 33
        }
      ]
    },
    {
      "cell_type": "code",
      "source": [
        "#the input is all columns except y, so we drop column y\n",
        "x = df2.drop(columns='Y')\n",
        "y = df2.iloc[:, 4]"
      ],
      "metadata": {
        "id": "KDmcXIV5ekJN"
      },
      "execution_count": 34,
      "outputs": []
    },
    {
      "cell_type": "code",
      "source": [
        "#create our theta\n",
        "theta = np.array([0]*len(x.columns))\n",
        "theta #print for verification"
      ],
      "metadata": {
        "colab": {
          "base_uri": "https://localhost:8080/"
        },
        "id": "g4JCZQ3ciRag",
        "outputId": "75bf3602-c327-465d-950e-a73c2186bdb8"
      },
      "execution_count": 35,
      "outputs": [
        {
          "output_type": "execute_result",
          "data": {
            "text/plain": [
              "array([0, 0, 0, 0])"
            ]
          },
          "metadata": {},
          "execution_count": 35
        }
      ]
    },
    {
      "cell_type": "code",
      "source": [
        "#lets define some variables again\n",
        "iterations = 1500\n",
        "alpha = .01 #change for problem 2 part 3"
      ],
      "metadata": {
        "id": "lR4zGRgkj_-n"
      },
      "execution_count": 36,
      "outputs": []
    },
    {
      "cell_type": "code",
      "source": [
        "#calculate our final theta and loss history\n",
        "theta, loss_history = gradient_descent(x, y, theta, alpha, iterations)\n",
        "print('final theta:\\n', theta) \n",
        "print('loss_history =', loss_history) "
      ],
      "metadata": {
        "colab": {
          "base_uri": "https://localhost:8080/"
        },
        "id": "o-NotXoBkjzC",
        "outputId": "6a0ec43d-bc6b-4f61-dda7-c1f45b2306aa"
      },
      "execution_count": 37,
      "outputs": [
        {
          "output_type": "stream",
          "name": "stdout",
          "text": [
            "final theta:\n",
            " 00    4.151187\n",
            "X1   -1.839429\n",
            "X2    0.724739\n",
            "X3   -0.095133\n",
            "dtype: float64\n",
            "loss_history = [5.21542243 4.97171977 4.7765543  ... 0.81079843 0.81065429 0.81051044]\n"
          ]
        }
      ]
    },
    {
      "cell_type": "code",
      "source": [
        "#plot convergence of gradient descent (part 2 of problem 2)\n",
        "plt.plot(range(1, iterations + 1),loss_history, color='magenta') \n",
        "plt.rcParams[\"figure.figsize\"] = (10,6) \n",
        "plt.grid() \n",
        "plt.xlabel('no. iterations') \n",
        "plt.ylabel('J (loss)') \n",
        "plt.title('convergence of gradient descent for x1, x2, and x3') "
      ],
      "metadata": {
        "colab": {
          "base_uri": "https://localhost:8080/",
          "height": 421
        },
        "id": "msKAVBHkmMNG",
        "outputId": "a464493c-c7d4-4d15-af4d-b70c1ac31f6c"
      },
      "execution_count": 38,
      "outputs": [
        {
          "output_type": "execute_result",
          "data": {
            "text/plain": [
              "Text(0.5, 1.0, 'convergence of gradient descent for x1, x2, and x3')"
            ]
          },
          "metadata": {},
          "execution_count": 38
        },
        {
          "output_type": "display_data",
          "data": {
            "text/plain": [
              "<Figure size 720x432 with 1 Axes>"
            ],
            "image/png": "[encoded data removed]"
          },
          "metadata": {
            "needs_background": "light"
          }
        }
      ]
    },
    {
      "cell_type": "code",
      "source": [
        "# \"Predict the value of y for new (X1, X2, X3) values (1, 1, 1), for (2, 0, 4), and for (3, 2, 1)\"\n",
        "# We're going to declare new X1, X2, X3 data sets using those values given to us\n",
        "data_set2 = {'x1Modified' : [1, 1, 1], 'x2Modified' : [2, 0, 4], 'x3Modified' : [3, 2, 1]}\n",
        "dfModified = pd.DataFrame(data_set2)\n",
        "dfModified = pd.concat([pd.Series(1, index=dfModified.index, name='00'), dfModified], axis=1) #concat 1's like in problem 2\n",
        "dfModified.head()"
      ],
      "metadata": {
        "colab": {
          "base_uri": "https://localhost:8080/",
          "height": 143
        },
        "id": "sMWLaimOhA5I",
        "outputId": "c254d8b8-6da5-4e03-fd9a-ecc171864497"
      },
      "execution_count": 40,
      "outputs": [
        {
          "output_type": "execute_result",
          "data": {
            "text/plain": [
              "   00  x1Modified  x2Modified  x3Modified\n",
              "0   1           1           2           3\n",
              "1   1           1           0           2\n",
              "2   1           1           4           1"
            ],
            "text/html": [
              "\n",
              "  <div id=\"df-2459d06d-d02d-4530-a8dd-44e427063f53\">\n",
              "    <div class=\"colab-df-container\">\n",
              "      <div>\n",
              "<style scoped>\n",
              "    .dataframe tbody tr th:only-of-type {\n",
              "        vertical-align: middle;\n",
              "    }\n",
              "\n",
              "    .dataframe tbody tr th {\n",
              "        vertical-align: top;\n",
              "    }\n",
              "\n",
              "    .dataframe thead th {\n",
              "        text-align: right;\n",
              "    }\n",
              "</style>\n",
              "<table border=\"1\" class=\"dataframe\">\n",
              "  <thead>\n",
              "    <tr style=\"text-align: right;\">\n",
              "      <th></th>\n",
              "      <th>00</th>\n",
              "      <th>x1Modified</th>\n",
              "      <th>x2Modified</th>\n",
              "      <th>x3Modified</th>\n",
              "    </tr>\n",
              "  </thead>\n",
              "  <tbody>\n",
              "    <tr>\n",
              "      <th>0</th>\n",
              "      <td>1</td>\n",
              "      <td>1</td>\n",
              "      <td>2</td>\n",
              "      <td>3</td>\n",
              "    </tr>\n",
              "    <tr>\n",
              "      <th>1</th>\n",
              "      <td>1</td>\n",
              "      <td>1</td>\n",
              "      <td>0</td>\n",
              "      <td>2</td>\n",
              "    </tr>\n",
              "    <tr>\n",
              "      <th>2</th>\n",
              "      <td>1</td>\n",
              "      <td>1</td>\n",
              "      <td>4</td>\n",
              "      <td>1</td>\n",
              "    </tr>\n",
              "  </tbody>\n",
              "</table>\n",
              "</div>\n",
              "      <button class=\"colab-df-convert\" onclick=\"convertToInteractive('df-2459d06d-d02d-4530-a8dd-44e427063f53')\"\n",
              "              title=\"Convert this dataframe to an interactive table.\"\n",
              "              style=\"display:none;\">\n",
              "        \n",
              "  <svg xmlns=\"http://www.w3.org/2000/svg\" height=\"24px\"viewBox=\"0 0 24 24\"\n",
              "       width=\"24px\">\n",
              "    <path d=\"M0 0h24v24H0V0z\" fill=\"none\"/>\n",
              "    <path d=\"M18.56 5.44l.94 2.06.94-2.06 2.06-.94-2.06-.94-.94-2.06-.94 2.06-2.06.94zm-11 1L8.5 8.5l.94-2.06 2.06-.94-2.06-.94L8.5 2.5l-.94 2.06-2.06.94zm10 10l.94 2.06.94-2.06 2.06-.94-2.06-.94-.94-2.06-.94 2.06-2.06.94z\"/><path d=\"M17.41 7.96l-1.37-1.37c-.4-.4-.92-.59-1.43-.59-.52 0-1.04.2-1.43.59L10.3 9.45l-7.72 7.72c-.78.78-.78 2.05 0 2.83L4 21.41c.39.39.9.59 1.41.59.51 0 1.02-.2 1.41-.59l7.78-7.78 2.81-2.81c.8-.78.8-2.07 0-2.86zM5.41 20L4 18.59l7.72-7.72 1.47 1.35L5.41 20z\"/>\n",
              "  </svg>\n",
              "      </button>\n",
              "      \n",
              "  <style>\n",
              "    .colab-df-container {\n",
              "      display:flex;\n",
              "      flex-wrap:wrap;\n",
              "      gap: 12px;\n",
              "    }\n",
              "\n",
              "    .colab-df-convert {\n",
              "      background-color: #E8F0FE;\n",
              "      border: none;\n",
              "      border-radius: 50%;\n",
              "      cursor: pointer;\n",
              "      display: none;\n",
              "      fill: #1967D2;\n",
              "      height: 32px;\n",
              "      padding: 0 0 0 0;\n",
              "      width: 32px;\n",
              "    }\n",
              "\n",
              "    .colab-df-convert:hover {\n",
              "      background-color: #E2EBFA;\n",
              "      box-shadow: 0px 1px 2px rgba(60, 64, 67, 0.3), 0px 1px 3px 1px rgba(60, 64, 67, 0.15);\n",
              "      fill: #174EA6;\n",
              "    }\n",
              "\n",
              "    [theme=dark] .colab-df-convert {\n",
              "      background-color: #3B4455;\n",
              "      fill: #D2E3FC;\n",
              "    }\n",
              "\n",
              "    [theme=dark] .colab-df-convert:hover {\n",
              "      background-color: #434B5C;\n",
              "      box-shadow: 0px 1px 3px 1px rgba(0, 0, 0, 0.15);\n",
              "      filter: drop-shadow(0px 1px 2px rgba(0, 0, 0, 0.3));\n",
              "      fill: #FFFFFF;\n",
              "    }\n",
              "  </style>\n",
              "\n",
              "      <script>\n",
              "        const buttonEl =\n",
              "          document.querySelector('#df-2459d06d-d02d-4530-a8dd-44e427063f53 button.colab-df-convert');\n",
              "        buttonEl.style.display =\n",
              "          google.colab.kernel.accessAllowed ? 'block' : 'none';\n",
              "\n",
              "        async function convertToInteractive(key) {\n",
              "          const element = document.querySelector('#df-2459d06d-d02d-4530-a8dd-44e427063f53');\n",
              "          const dataTable =\n",
              "            await google.colab.kernel.invokeFunction('convertToInteractive',\n",
              "                                                     [key], {});\n",
              "          if (!dataTable) return;\n",
              "\n",
              "          const docLinkHtml = 'Like what you see? Visit the ' +\n",
              "            '<a target=\"_blank\" href=https://colab.research.google.com/notebooks/data_table.ipynb>data table notebook</a>'\n",
              "            + ' to learn more about interactive tables.';\n",
              "          element.innerHTML = '';\n",
              "          dataTable['output_type'] = 'display_data';\n",
              "          await google.colab.output.renderOutput(dataTable, element);\n",
              "          const docLink = document.createElement('div');\n",
              "          docLink.innerHTML = docLinkHtml;\n",
              "          element.appendChild(docLink);\n",
              "        }\n",
              "      </script>\n",
              "    </div>\n",
              "  </div>\n",
              "  "
            ]
          },
          "metadata": {},
          "execution_count": 40
        }
      ]
    },
    {
      "cell_type": "code",
      "source": [
        "# convert new stuff to numpy (fixes a bug)\n",
        "dfModified = dfModified.to_numpy()\n",
        "theta = theta.to_numpy()"
      ],
      "metadata": {
        "id": "2WqIFlo4jimH"
      },
      "execution_count": 41,
      "outputs": []
    },
    {
      "cell_type": "code",
      "source": [
        "def hypothesis(theta, dfModified): #this function is just a snippet of our earlier compute loss function\n",
        "  predictions = dfModified.dot(theta)\n",
        "  return predictions"
      ],
      "metadata": {
        "id": "8zRxRKzokZv6"
      },
      "execution_count": 45,
      "outputs": []
    },
    {
      "cell_type": "code",
      "source": [
        "yModified = hypothesis(theta, dfModified)\n",
        "yModified"
      ],
      "metadata": {
        "colab": {
          "base_uri": "https://localhost:8080/"
        },
        "id": "6mJjWReAlKUY",
        "outputId": "199411c9-dc6d-4823-becd-0b6666d286fa"
      },
      "execution_count": 46,
      "outputs": [
        {
          "output_type": "execute_result",
          "data": {
            "text/plain": [
              "array([3.47583731, 2.12149286, 5.11557976])"
            ]
          },
          "metadata": {},
          "execution_count": 46
        }
      ]
    }
  ]
}