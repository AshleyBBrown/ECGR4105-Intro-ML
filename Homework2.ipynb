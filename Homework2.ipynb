{
  "nbformat": 4,
  "nbformat_minor": 0,
  "metadata": {
    "colab": {
      "provenance": [],
      "collapsed_sections": []
    },
    "kernelspec": {
      "name": "python3",
      "display_name": "Python 3"
    },
    "language_info": {
      "name": "python"
    }
  },
  "cells": [
    {
      "cell_type": "markdown",
      "source": [
        "Ashley Brown 801055033 10/9/2022\n",
        "\n",
        "Homework 2\n",
        "\n",
        "\"In this homework, we will use the Diabetes dataset and Cancer dataset. (Note: You can use the built-in function from ML libraries for gradient descent, training, and validation.)\""
      ],
      "metadata": {
        "id": "F01TtGGvkB70"
      }
    },
    {
      "cell_type": "code",
      "source": [
        "#imports\n",
        "import numpy as np \n",
        "import pandas as pd \n",
        "import matplotlib.pyplot as plt \n",
        "from sklearn import preprocessing\n",
        "from sklearn.model_selection import train_test_split\n",
        "from sklearn.preprocessing import MinMaxScaler, StandardScaler\n",
        "from sklearn.model_selection import KFold\n",
        "from sklearn.model_selection import cross_val_score\n",
        "from sklearn.linear_model import LogisticRegression\n",
        "from sklearn import datasets\n",
        "from sklearn import metrics\n",
        "from sklearn.metrics import confusion_matrix\n",
        "from sklearn.metrics import classification_report\n",
        "from sklearn.datasets import load_breast_cancer\n",
        "import seaborn as sns"
      ],
      "metadata": {
        "id": "3jC69uKpkLwb"
      },
      "execution_count": 1,
      "outputs": []
    },
    {
      "cell_type": "markdown",
      "source": [
        "Problem 1 (20 points)\n",
        "\n",
        "Using the diabetes dataset, build a logistic regression binary classifier for positive diabetes. Please use 80% and 20% split between training and evaluation (test). Make sure to perform proper scaling and standardization before your training. Report your results, including accuracy, precision, and recall. At the end, plot the confusion matrix representing your binary classifier. "
      ],
      "metadata": {
        "id": "UMKIbz5PkMGJ"
      }
    },
    {
      "cell_type": "code",
      "execution_count": 2,
      "metadata": {
        "colab": {
          "base_uri": "https://localhost:8080/",
          "height": 270
        },
        "id": "7zSZ0nfQipwN",
        "outputId": "ac0c14e2-80c8-4361-f2f8-512cc7111fc5"
      },
      "outputs": [
        {
          "output_type": "execute_result",
          "data": {
            "text/plain": [
              "   Pregnancies  Glucose  BloodPressure  SkinThickness  Insulin   BMI  \\\n",
              "0            6      148             72             35        0  33.6   \n",
              "1            1       85             66             29        0  26.6   \n",
              "2            8      183             64              0        0  23.3   \n",
              "3            1       89             66             23       94  28.1   \n",
              "4            0      137             40             35      168  43.1   \n",
              "\n",
              "   DiabetesPedigreeFunction  Age  Outcome  \n",
              "0                     0.627   50        1  \n",
              "1                     0.351   31        0  \n",
              "2                     0.672   32        1  \n",
              "3                     0.167   21        0  \n",
              "4                     2.288   33        1  "
            ],
            "text/html": [
              "\n",
              "  <div id=\"df-216a1052-d6f4-4ee0-bb29-a5d6172c07c5\">\n",
              "    <div class=\"colab-df-container\">\n",
              "      <div>\n",
              "<style scoped>\n",
              "    .dataframe tbody tr th:only-of-type {\n",
              "        vertical-align: middle;\n",
              "    }\n",
              "\n",
              "    .dataframe tbody tr th {\n",
              "        vertical-align: top;\n",
              "    }\n",
              "\n",
              "    .dataframe thead th {\n",
              "        text-align: right;\n",
              "    }\n",
              "</style>\n",
              "<table border=\"1\" class=\"dataframe\">\n",
              "  <thead>\n",
              "    <tr style=\"text-align: right;\">\n",
              "      <th></th>\n",
              "      <th>Pregnancies</th>\n",
              "      <th>Glucose</th>\n",
              "      <th>BloodPressure</th>\n",
              "      <th>SkinThickness</th>\n",
              "      <th>Insulin</th>\n",
              "      <th>BMI</th>\n",
              "      <th>DiabetesPedigreeFunction</th>\n",
              "      <th>Age</th>\n",
              "      <th>Outcome</th>\n",
              "    </tr>\n",
              "  </thead>\n",
              "  <tbody>\n",
              "    <tr>\n",
              "      <th>0</th>\n",
              "      <td>6</td>\n",
              "      <td>148</td>\n",
              "      <td>72</td>\n",
              "      <td>35</td>\n",
              "      <td>0</td>\n",
              "      <td>33.6</td>\n",
              "      <td>0.627</td>\n",
              "      <td>50</td>\n",
              "      <td>1</td>\n",
              "    </tr>\n",
              "    <tr>\n",
              "      <th>1</th>\n",
              "      <td>1</td>\n",
              "      <td>85</td>\n",
              "      <td>66</td>\n",
              "      <td>29</td>\n",
              "      <td>0</td>\n",
              "      <td>26.6</td>\n",
              "      <td>0.351</td>\n",
              "      <td>31</td>\n",
              "      <td>0</td>\n",
              "    </tr>\n",
              "    <tr>\n",
              "      <th>2</th>\n",
              "      <td>8</td>\n",
              "      <td>183</td>\n",
              "      <td>64</td>\n",
              "      <td>0</td>\n",
              "      <td>0</td>\n",
              "      <td>23.3</td>\n",
              "      <td>0.672</td>\n",
              "      <td>32</td>\n",
              "      <td>1</td>\n",
              "    </tr>\n",
              "    <tr>\n",
              "      <th>3</th>\n",
              "      <td>1</td>\n",
              "      <td>89</td>\n",
              "      <td>66</td>\n",
              "      <td>23</td>\n",
              "      <td>94</td>\n",
              "      <td>28.1</td>\n",
              "      <td>0.167</td>\n",
              "      <td>21</td>\n",
              "      <td>0</td>\n",
              "    </tr>\n",
              "    <tr>\n",
              "      <th>4</th>\n",
              "      <td>0</td>\n",
              "      <td>137</td>\n",
              "      <td>40</td>\n",
              "      <td>35</td>\n",
              "      <td>168</td>\n",
              "      <td>43.1</td>\n",
              "      <td>2.288</td>\n",
              "      <td>33</td>\n",
              "      <td>1</td>\n",
              "    </tr>\n",
              "  </tbody>\n",
              "</table>\n",
              "</div>\n",
              "      <button class=\"colab-df-convert\" onclick=\"convertToInteractive('df-216a1052-d6f4-4ee0-bb29-a5d6172c07c5')\"\n",
              "              title=\"Convert this dataframe to an interactive table.\"\n",
              "              style=\"display:none;\">\n",
              "        \n",
              "  <svg xmlns=\"http://www.w3.org/2000/svg\" height=\"24px\"viewBox=\"0 0 24 24\"\n",
              "       width=\"24px\">\n",
              "    <path d=\"M0 0h24v24H0V0z\" fill=\"none\"/>\n",
              "    <path d=\"M18.56 5.44l.94 2.06.94-2.06 2.06-.94-2.06-.94-.94-2.06-.94 2.06-2.06.94zm-11 1L8.5 8.5l.94-2.06 2.06-.94-2.06-.94L8.5 2.5l-.94 2.06-2.06.94zm10 10l.94 2.06.94-2.06 2.06-.94-2.06-.94-.94-2.06-.94 2.06-2.06.94z\"/><path d=\"M17.41 7.96l-1.37-1.37c-.4-.4-.92-.59-1.43-.59-.52 0-1.04.2-1.43.59L10.3 9.45l-7.72 7.72c-.78.78-.78 2.05 0 2.83L4 21.41c.39.39.9.59 1.41.59.51 0 1.02-.2 1.41-.59l7.78-7.78 2.81-2.81c.8-.78.8-2.07 0-2.86zM5.41 20L4 18.59l7.72-7.72 1.47 1.35L5.41 20z\"/>\n",
              "  </svg>\n",
              "      </button>\n",
              "      \n",
              "  <style>\n",
              "    .colab-df-container {\n",
              "      display:flex;\n",
              "      flex-wrap:wrap;\n",
              "      gap: 12px;\n",
              "    }\n",
              "\n",
              "    .colab-df-convert {\n",
              "      background-color: #E8F0FE;\n",
              "      border: none;\n",
              "      border-radius: 50%;\n",
              "      cursor: pointer;\n",
              "      display: none;\n",
              "      fill: #1967D2;\n",
              "      height: 32px;\n",
              "      padding: 0 0 0 0;\n",
              "      width: 32px;\n",
              "    }\n",
              "\n",
              "    .colab-df-convert:hover {\n",
              "      background-color: #E2EBFA;\n",
              "      box-shadow: 0px 1px 2px rgba(60, 64, 67, 0.3), 0px 1px 3px 1px rgba(60, 64, 67, 0.15);\n",
              "      fill: #174EA6;\n",
              "    }\n",
              "\n",
              "    [theme=dark] .colab-df-convert {\n",
              "      background-color: #3B4455;\n",
              "      fill: #D2E3FC;\n",
              "    }\n",
              "\n",
              "    [theme=dark] .colab-df-convert:hover {\n",
              "      background-color: #434B5C;\n",
              "      box-shadow: 0px 1px 3px 1px rgba(0, 0, 0, 0.15);\n",
              "      filter: drop-shadow(0px 1px 2px rgba(0, 0, 0, 0.3));\n",
              "      fill: #FFFFFF;\n",
              "    }\n",
              "  </style>\n",
              "\n",
              "      <script>\n",
              "        const buttonEl =\n",
              "          document.querySelector('#df-216a1052-d6f4-4ee0-bb29-a5d6172c07c5 button.colab-df-convert');\n",
              "        buttonEl.style.display =\n",
              "          google.colab.kernel.accessAllowed ? 'block' : 'none';\n",
              "\n",
              "        async function convertToInteractive(key) {\n",
              "          const element = document.querySelector('#df-216a1052-d6f4-4ee0-bb29-a5d6172c07c5');\n",
              "          const dataTable =\n",
              "            await google.colab.kernel.invokeFunction('convertToInteractive',\n",
              "                                                     [key], {});\n",
              "          if (!dataTable) return;\n",
              "\n",
              "          const docLinkHtml = 'Like what you see? Visit the ' +\n",
              "            '<a target=\"_blank\" href=https://colab.research.google.com/notebooks/data_table.ipynb>data table notebook</a>'\n",
              "            + ' to learn more about interactive tables.';\n",
              "          element.innerHTML = '';\n",
              "          dataTable['output_type'] = 'display_data';\n",
              "          await google.colab.output.renderOutput(dataTable, element);\n",
              "          const docLink = document.createElement('div');\n",
              "          docLink.innerHTML = docLinkHtml;\n",
              "          element.appendChild(docLink);\n",
              "        }\n",
              "      </script>\n",
              "    </div>\n",
              "  </div>\n",
              "  "
            ]
          },
          "metadata": {},
          "execution_count": 2
        }
      ],
      "source": [
        "#configure data sets\n",
        "data_set = '/content/drive/MyDrive/IntroToMachineLearning/diabetes.csv'\n",
        "df = pd.read_csv(data_set)\n",
        "df.head()"
      ]
    },
    {
      "cell_type": "code",
      "source": [
        "#indep variables:\n",
        "  #Pregnancies, Glucose, BloodPressure, SkinThickness, Insulin, BMI, DiabetesPedigreeFunction, Age\n",
        "X = df.iloc[:, [0,1,2,3,4,5,6,7]].values #first 8 categories\n",
        "\n",
        "#dep variables:\n",
        "  #Outcome (last category)\n",
        "Y = df.iloc[:, 8].values"
      ],
      "metadata": {
        "id": "QVKLsF2LlF4N"
      },
      "execution_count": 3,
      "outputs": []
    },
    {
      "cell_type": "code",
      "source": [
        "#standardize data before splitting\n",
        "scaler = StandardScaler()\n",
        "X = scaler.fit_transform(X)\n",
        "\n",
        "#split dataset\n",
        "xTrain, xTest, yTrain, yTest = train_test_split(X, Y, train_size = 0.8, test_size = 0.2)"
      ],
      "metadata": {
        "id": "6FIu_3s_manJ"
      },
      "execution_count": 4,
      "outputs": []
    },
    {
      "cell_type": "code",
      "source": [
        "#perform logistic regression (can use built in functions)\n",
        "classifier = LogisticRegression(random_state = 0)\n",
        "classifier.fit(xTrain, yTrain)"
      ],
      "metadata": {
        "colab": {
          "base_uri": "https://localhost:8080/"
        },
        "id": "wx9sW-EcmXTV",
        "outputId": "5802b0e5-ff7f-4d31-e12e-5676b00e9fda"
      },
      "execution_count": 5,
      "outputs": [
        {
          "output_type": "execute_result",
          "data": {
            "text/plain": [
              "LogisticRegression(random_state=0)"
            ]
          },
          "metadata": {},
          "execution_count": 5
        }
      ]
    },
    {
      "cell_type": "code",
      "source": [
        "#prediction function\n",
        "yPred = classifier.predict(xTest)\n",
        "yPred"
      ],
      "metadata": {
        "colab": {
          "base_uri": "https://localhost:8080/"
        },
        "id": "AN_479Iyn9gz",
        "outputId": "686f2143-a3f0-4ae0-a518-f129afcbaecd"
      },
      "execution_count": 6,
      "outputs": [
        {
          "output_type": "execute_result",
          "data": {
            "text/plain": [
              "array([1, 1, 0, 0, 0, 0, 0, 0, 1, 0, 0, 0, 1, 1, 0, 0, 0, 0, 0, 0, 1, 0,\n",
              "       0, 0, 0, 1, 0, 0, 0, 0, 1, 0, 0, 0, 0, 0, 0, 1, 0, 0, 0, 0, 0, 1,\n",
              "       0, 0, 0, 0, 0, 0, 0, 0, 0, 0, 0, 0, 0, 1, 0, 0, 0, 1, 1, 0, 0, 0,\n",
              "       1, 1, 1, 1, 0, 1, 0, 0, 0, 0, 0, 0, 0, 0, 0, 1, 0, 1, 0, 0, 0, 0,\n",
              "       0, 1, 0, 0, 0, 1, 0, 0, 0, 1, 0, 0, 0, 1, 0, 0, 0, 0, 1, 0, 0, 0,\n",
              "       1, 0, 1, 1, 0, 0, 1, 1, 1, 1, 0, 0, 0, 1, 0, 1, 0, 1, 0, 1, 0, 0,\n",
              "       0, 0, 0, 0, 0, 0, 0, 0, 1, 0, 1, 0, 0, 0, 1, 0, 0, 0, 1, 1, 0, 0])"
            ]
          },
          "metadata": {},
          "execution_count": 6
        }
      ]
    },
    {
      "cell_type": "code",
      "source": [
        "#get confusion matrix values\n",
        "cmatrix = confusion_matrix(yTest, yPred)\n",
        "cmatrix"
      ],
      "metadata": {
        "colab": {
          "base_uri": "https://localhost:8080/"
        },
        "id": "RztIbq37oMJa",
        "outputId": "0dd05306-b73a-4b47-cfdb-e5e25b9f04cb"
      },
      "execution_count": 7,
      "outputs": [
        {
          "output_type": "execute_result",
          "data": {
            "text/plain": [
              "array([[91, 11],\n",
              "       [22, 30]])"
            ]
          },
          "metadata": {},
          "execution_count": 7
        }
      ]
    },
    {
      "cell_type": "code",
      "source": [
        "print(\"accuracy =\",metrics.accuracy_score(yTest, yPred)) \n",
        "print(\"precision =\",metrics.precision_score(yTest, yPred)) \n",
        "print(\"recall = \",metrics.recall_score(yTest, yPred)) "
      ],
      "metadata": {
        "colab": {
          "base_uri": "https://localhost:8080/"
        },
        "id": "nSFfCR18oeP3",
        "outputId": "9b69cf84-b58f-474b-a065-ec32d5db6156"
      },
      "execution_count": 8,
      "outputs": [
        {
          "output_type": "stream",
          "name": "stdout",
          "text": [
            "accuracy = 0.7857142857142857\n",
            "precision = 0.7317073170731707\n",
            "recall =  0.5769230769230769\n"
          ]
        }
      ]
    },
    {
      "cell_type": "markdown",
      "source": [
        "These are the results of the training."
      ],
      "metadata": {
        "id": "vym5xjC6p4Si"
      }
    },
    {
      "cell_type": "code",
      "source": [
        "#generate heatmap plot of confusion matrix\n",
        "class_names=[0,1]\n",
        "fig, ax = plt.subplots() \n",
        "tick_marks = np.arange(len(class_names)) \n",
        "plt.xticks(tick_marks, class_names) \n",
        "plt.yticks(tick_marks, class_names) \n",
        "\n",
        "sns.heatmap(pd.DataFrame(cmatrix), annot=True, cmap=\"YlGnBu\" ,fmt='g') \n",
        "ax.xaxis.set_label_position(\"top\") \n",
        "plt.tight_layout() \n",
        "plt.title('confusion matrix', y=1) \n",
        "plt.ylabel('actual') \n",
        "plt.xlabel('predicted') "
      ],
      "metadata": {
        "colab": {
          "base_uri": "https://localhost:8080/",
          "height": 341
        },
        "id": "ovXDOO3uozUD",
        "outputId": "5e04a52f-e1ee-4a0d-b82a-76a57ae87f88"
      },
      "execution_count": 9,
      "outputs": [
        {
          "output_type": "execute_result",
          "data": {
            "text/plain": [
              "Text(0.5, 257.44, 'predicted')"
            ]
          },
          "metadata": {},
          "execution_count": 9
        },
        {
          "output_type": "display_data",
          "data": {
            "text/plain": [
              "<Figure size 432x288 with 2 Axes>"
            ],
            "image/png": "[encoded data removed]"
          },
          "metadata": {
            "needs_background": "light"
          }
        }
      ]
    },
    {
      "cell_type": "markdown",
      "source": [
        "This is the confusion matrix representing the binary classifier."
      ],
      "metadata": {
        "id": "d1ePoPSNp9aM"
      }
    },
    {
      "cell_type": "markdown",
      "source": [
        "\\===================================================================================\n",
        "\n",
        "Problem 2 (20 points)\n",
        "\n",
        "Repeat problem 1, and this time use K-fold cross-validation for your training and validation. Perform the training two times for K=5 and K=10. Analyze and compare your average accuracy against problem 1.\n",
        "\\==================================================================================="
      ],
      "metadata": {
        "id": "TUXfuOi5poKY"
      }
    },
    {
      "cell_type": "code",
      "source": [
        "#indep variables:\n",
        "X = df.iloc[:, [0,1,2,3,4,5,6,7]].values\n",
        "#dep variables:\n",
        "Y = df.iloc[:, 8].values"
      ],
      "metadata": {
        "id": "pt8jmN4aqVN-"
      },
      "execution_count": 10,
      "outputs": []
    },
    {
      "cell_type": "code",
      "source": [
        "#standardize data before splitting\n",
        "scaler = StandardScaler()\n",
        "X = scaler.fit_transform(X)\n",
        "\n",
        "#split dataset\n",
        "xTrain, xTest, yTrain, yTest = train_test_split(X, Y, train_size = 0.8, test_size = 0.2)"
      ],
      "metadata": {
        "id": "NNJvL-brqdpN"
      },
      "execution_count": 11,
      "outputs": []
    },
    {
      "cell_type": "markdown",
      "source": [
        "Time to split into kfolds."
      ],
      "metadata": {
        "id": "yO6G44worA_3"
      }
    },
    {
      "cell_type": "code",
      "source": [
        "#5 kfolds\n",
        "kfoldA = KFold(n_splits=5, random_state=0, shuffle=True)\n",
        "classifier = LogisticRegression(solver='liblinear')\n",
        "classifier.fit(xTrain, yTrain)\n",
        "results = cross_val_score(classifier, X, Y, cv=kfoldA)\n",
        "#print mean and std across all folds to get accuracy\n",
        "print(\"accuracy = %.3f%% (%.3f%%)\"  % (results.mean()*100.0, results.std()*100.0))"
      ],
      "metadata": {
        "colab": {
          "base_uri": "https://localhost:8080/"
        },
        "id": "ZQqV0EnyrDHQ",
        "outputId": "edaa6869-f918-4ba9-8d3f-c96cdfe7c3de"
      },
      "execution_count": 12,
      "outputs": [
        {
          "output_type": "stream",
          "name": "stdout",
          "text": [
            "accuracy = 77.600% (2.777%)\n"
          ]
        }
      ]
    },
    {
      "cell_type": "code",
      "source": [
        "#10 kfolds\n",
        "kfoldB = KFold(n_splits=10, random_state=0, shuffle=True)\n",
        "classifier = LogisticRegression(solver='liblinear')\n",
        "classifier.fit(xTrain, yTrain)\n",
        "results = cross_val_score(classifier, X, Y, cv=kfoldB)\n",
        "#print mean and std across all folds to get accuracy\n",
        "print(\"accuracy = %.3f%% (%.3f%%)\"  % (results.mean()*100.0, results.std()*100.0))"
      ],
      "metadata": {
        "colab": {
          "base_uri": "https://localhost:8080/"
        },
        "id": "J9EVCPLDvnVh",
        "outputId": "8bfef8dc-0276-41b6-eeca-095b72bfcda2"
      },
      "execution_count": 13,
      "outputs": [
        {
          "output_type": "stream",
          "name": "stdout",
          "text": [
            "accuracy = 77.604% (5.036%)\n"
          ]
        }
      ]
    },
    {
      "cell_type": "markdown",
      "source": [
        "Problem 1 accuracy was 74.67 percent, for comparison. kfolds increased the accuracy by a noticeable amount."
      ],
      "metadata": {
        "id": "Up_VCaQdv0BW"
      }
    },
    {
      "cell_type": "markdown",
      "source": [
        "\\===================================================================================\n",
        "Problem 3 (30pts):\n",
        "\\==================================================================================="
      ],
      "metadata": {
        "id": "MRwtsx9MwNEm"
      }
    },
    {
      "cell_type": "markdown",
      "source": [
        "1. Use the cancer dataset to build a logistic regression model to classify the type of cancer (Malignant vs. benign). First, create a logistic regression that takes all 30 input features for classification. Please use 80% and 20% split between training and evaluation (test). Make sure to perform proper scaling and standardization before your training. Report your results, including accuracy, precision, and recall. At the end, plot the confusion matrix representing your binary classifier. "
      ],
      "metadata": {
        "id": "_-K5qpZ_wV2J"
      }
    },
    {
      "cell_type": "code",
      "source": [
        "#load dataset\n",
        "breast = load_breast_cancer() \n",
        "breast_data = breast.data \n",
        "breast_input = pd.DataFrame(breast_data)\n",
        "\n",
        "X = breast_data\n",
        "Y = breast.target"
      ],
      "metadata": {
        "id": "gjz2KkbWwVTQ"
      },
      "execution_count": 14,
      "outputs": []
    },
    {
      "cell_type": "code",
      "source": [
        "#standardize data before splitting\n",
        "scaler = StandardScaler()\n",
        "X = scaler.fit_transform(X)\n",
        "\n",
        "#split dataset\n",
        "xTrain, xTest, yTrain, yTest = train_test_split(X, Y, train_size = 0.8, test_size = 0.2)"
      ],
      "metadata": {
        "id": "TFyrDhMxwjMF"
      },
      "execution_count": 15,
      "outputs": []
    },
    {
      "cell_type": "code",
      "source": [
        "#perform logistic regression (can use built in functions)\n",
        "classifier = LogisticRegression(random_state = 0)\n",
        "classifier.fit(xTrain, yTrain)"
      ],
      "metadata": {
        "colab": {
          "base_uri": "https://localhost:8080/"
        },
        "id": "ktQxK-7mxIuS",
        "outputId": "11d0152d-9f56-4698-c3d3-3fc6ca15ec59"
      },
      "execution_count": 16,
      "outputs": [
        {
          "output_type": "execute_result",
          "data": {
            "text/plain": [
              "LogisticRegression(random_state=0)"
            ]
          },
          "metadata": {},
          "execution_count": 16
        }
      ]
    },
    {
      "cell_type": "code",
      "source": [
        "#prediction function\n",
        "yPred = classifier.predict(xTest)\n",
        "yPred"
      ],
      "metadata": {
        "colab": {
          "base_uri": "https://localhost:8080/"
        },
        "id": "bZI9gwJJxLPt",
        "outputId": "d925446f-b061-4b60-a838-331b88c84cb0"
      },
      "execution_count": 17,
      "outputs": [
        {
          "output_type": "execute_result",
          "data": {
            "text/plain": [
              "array([1, 0, 0, 0, 1, 1, 1, 1, 0, 0, 1, 1, 1, 0, 1, 0, 0, 1, 0, 1, 1, 1,\n",
              "       1, 0, 0, 1, 1, 1, 0, 1, 0, 1, 0, 1, 1, 1, 1, 0, 0, 0, 1, 1, 1, 0,\n",
              "       1, 1, 1, 1, 1, 0, 1, 0, 0, 1, 0, 1, 1, 0, 1, 1, 1, 1, 1, 0, 1, 1,\n",
              "       0, 1, 1, 1, 1, 1, 1, 0, 0, 0, 0, 1, 1, 1, 1, 1, 1, 0, 0, 0, 0, 1,\n",
              "       0, 1, 0, 1, 1, 1, 0, 0, 0, 0, 1, 0, 0, 0, 1, 0, 1, 0, 1, 1, 1, 1,\n",
              "       1, 0, 0, 1])"
            ]
          },
          "metadata": {},
          "execution_count": 17
        }
      ]
    },
    {
      "cell_type": "code",
      "source": [
        "#get confusion matrix values\n",
        "cmatrix = confusion_matrix(yTest, yPred)\n",
        "cmatrix"
      ],
      "metadata": {
        "colab": {
          "base_uri": "https://localhost:8080/"
        },
        "id": "5wnjwL0MxNzT",
        "outputId": "9165f554-9221-4d61-fd61-22beed5c6298"
      },
      "execution_count": 18,
      "outputs": [
        {
          "output_type": "execute_result",
          "data": {
            "text/plain": [
              "array([[46,  2],\n",
              "       [ 0, 66]])"
            ]
          },
          "metadata": {},
          "execution_count": 18
        }
      ]
    },
    {
      "cell_type": "code",
      "source": [
        "print(\"accuracy =\",metrics.accuracy_score(yTest, yPred)) \n",
        "print(\"precision =\",metrics.precision_score(yTest, yPred)) \n",
        "print(\"recall = \",metrics.recall_score(yTest, yPred)) "
      ],
      "metadata": {
        "colab": {
          "base_uri": "https://localhost:8080/"
        },
        "id": "faahN84ExQml",
        "outputId": "709fecbd-ba18-446c-d37d-f9f89bbb1229"
      },
      "execution_count": 19,
      "outputs": [
        {
          "output_type": "stream",
          "name": "stdout",
          "text": [
            "accuracy = 0.9824561403508771\n",
            "precision = 0.9705882352941176\n",
            "recall =  1.0\n"
          ]
        }
      ]
    },
    {
      "cell_type": "markdown",
      "source": [
        "These are the results of the training."
      ],
      "metadata": {
        "id": "RyJ7maYlxTDc"
      }
    },
    {
      "cell_type": "code",
      "source": [
        "#generate heatmap plot of confusion matrix\n",
        "class_names=[0,1]\n",
        "fig, ax = plt.subplots() \n",
        "tick_marks = np.arange(len(class_names)) \n",
        "plt.xticks(tick_marks, class_names) \n",
        "plt.yticks(tick_marks, class_names) \n",
        "\n",
        "sns.heatmap(pd.DataFrame(cmatrix), annot=True, cmap=\"YlGnBu\" ,fmt='g') \n",
        "ax.xaxis.set_label_position(\"top\") \n",
        "plt.tight_layout() \n",
        "plt.title('confusion matrix', y=1) \n",
        "plt.ylabel('actual') \n",
        "plt.xlabel('predicted') "
      ],
      "metadata": {
        "colab": {
          "base_uri": "https://localhost:8080/",
          "height": 342
        },
        "id": "Xc511Uq9xTWp",
        "outputId": "df1ee9bc-9afe-40f0-83c7-746031d4c067"
      },
      "execution_count": 20,
      "outputs": [
        {
          "output_type": "execute_result",
          "data": {
            "text/plain": [
              "Text(0.5, 257.44, 'predicted')"
            ]
          },
          "metadata": {},
          "execution_count": 20
        },
        {
          "output_type": "display_data",
          "data": {
            "text/plain": [
              "<Figure size 432x288 with 2 Axes>"
            ],
            "image/png": "[encoded data removed]"
          },
          "metadata": {
            "needs_background": "light"
          }
        }
      ]
    },
    {
      "cell_type": "markdown",
      "source": [
        "This is the confusion matrix representing the binary classifier."
      ],
      "metadata": {
        "id": "8L62SBhAxXxM"
      }
    },
    {
      "cell_type": "markdown",
      "source": [
        "2. How about adding weight penalty here, considering the number of parameters. Add the weight penalty and repeat the training and report the results."
      ],
      "metadata": {
        "id": "g08lVLyCxa09"
      }
    },
    {
      "cell_type": "code",
      "source": [
        "#redo but with weights\n",
        "X = breast_data\n",
        "Y = breast.target\n",
        "\n",
        "#standardize data before splitting\n",
        "scaler = StandardScaler()\n",
        "X = scaler.fit_transform(X)\n",
        "\n",
        "#split dataset\n",
        "xTrain, xTest, yTrain, yTest = train_test_split(X, Y, train_size = 0.8, test_size = 0.2)"
      ],
      "metadata": {
        "id": "HbWRUrkGxdPO"
      },
      "execution_count": 21,
      "outputs": []
    },
    {
      "cell_type": "code",
      "source": [
        "#perform logistic regression but with weight penalty\n",
        "classifier = LogisticRegression(random_state = 0, penalty=\"l2\", solver=\"newton-cg\", class_weight='balanced')\n",
        "classifier.fit(xTrain, yTrain)\n",
        "\n",
        "#prediction function\n",
        "yPred = classifier.predict(xTest)\n",
        "yPred"
      ],
      "metadata": {
        "colab": {
          "base_uri": "https://localhost:8080/"
        },
        "id": "o9v2uzNSxsUZ",
        "outputId": "76f32b91-492a-4f1e-a346-c46187f72e4d"
      },
      "execution_count": 22,
      "outputs": [
        {
          "output_type": "execute_result",
          "data": {
            "text/plain": [
              "array([1, 1, 0, 1, 0, 0, 1, 1, 1, 1, 0, 1, 0, 0, 0, 0, 0, 1, 0, 1, 0, 1,\n",
              "       0, 0, 1, 1, 1, 1, 1, 0, 1, 1, 0, 1, 0, 1, 1, 1, 1, 1, 0, 0, 1, 0,\n",
              "       1, 1, 0, 1, 1, 0, 1, 1, 1, 0, 1, 1, 1, 0, 1, 1, 0, 1, 1, 0, 0, 0,\n",
              "       1, 0, 1, 0, 1, 1, 1, 0, 0, 1, 1, 1, 1, 1, 0, 0, 1, 0, 0, 1, 1, 1,\n",
              "       1, 0, 0, 1, 1, 0, 0, 1, 1, 1, 1, 0, 1, 1, 1, 0, 0, 0, 1, 1, 1, 1,\n",
              "       0, 1, 1, 1])"
            ]
          },
          "metadata": {},
          "execution_count": 22
        }
      ]
    },
    {
      "cell_type": "code",
      "source": [
        "#get confusion matrix values\n",
        "cmatrix = confusion_matrix(yTest, yPred)\n",
        "cmatrix"
      ],
      "metadata": {
        "colab": {
          "base_uri": "https://localhost:8080/"
        },
        "id": "8uzToU_-0hbo",
        "outputId": "7431b600-5cbe-4e73-d779-9e1e890ddc57"
      },
      "execution_count": 23,
      "outputs": [
        {
          "output_type": "execute_result",
          "data": {
            "text/plain": [
              "array([[42,  2],\n",
              "       [ 2, 68]])"
            ]
          },
          "metadata": {},
          "execution_count": 23
        }
      ]
    },
    {
      "cell_type": "code",
      "source": [
        "print(\"accuracy =\",metrics.accuracy_score(yTest, yPred)) \n",
        "print(\"precision =\",metrics.precision_score(yTest, yPred)) \n",
        "print(\"recall = \",metrics.recall_score(yTest, yPred)) "
      ],
      "metadata": {
        "colab": {
          "base_uri": "https://localhost:8080/"
        },
        "id": "n5cLjw7j0k5S",
        "outputId": "08e77ed0-738b-4586-f310-afe8d5c90827"
      },
      "execution_count": 24,
      "outputs": [
        {
          "output_type": "stream",
          "name": "stdout",
          "text": [
            "accuracy = 0.9649122807017544\n",
            "precision = 0.9714285714285714\n",
            "recall =  0.9714285714285714\n"
          ]
        }
      ]
    },
    {
      "cell_type": "markdown",
      "source": [
        "Every single metric here has improved slightly as a result of the new training with weight."
      ],
      "metadata": {
        "id": "A9ZlPCk10uxp"
      }
    },
    {
      "cell_type": "markdown",
      "source": [
        "\\===================================================================================\n",
        "Problem 4 (30pts):\n",
        "\\==================================================================================="
      ],
      "metadata": {
        "id": "xOzGsyPs05H-"
      }
    },
    {
      "cell_type": "markdown",
      "source": [
        "1. Repeat problem 3, and this time use K-fold cross-validation for your training and validation. Perform the training two times for K=5 and K=10. Analyze and compare your average accuracy against problem 3. "
      ],
      "metadata": {
        "id": "LtFrRyCm0986"
      }
    },
    {
      "cell_type": "code",
      "source": [
        "X = breast_data\n",
        "Y = breast.target\n",
        "\n",
        "#standardize data before splitting\n",
        "scaler = StandardScaler()\n",
        "X = scaler.fit_transform(X)\n",
        "\n",
        "#split dataset\n",
        "xTrain, xTest, yTrain, yTest = train_test_split(X, Y, train_size = 0.8, test_size = 0.2)"
      ],
      "metadata": {
        "id": "zJ11s2i-1AII"
      },
      "execution_count": 25,
      "outputs": []
    },
    {
      "cell_type": "code",
      "source": [
        "#5 kfolds\n",
        "kfoldA = KFold(n_splits=5, random_state=0, shuffle=True)\n",
        "classifier = LogisticRegression(solver='liblinear')\n",
        "classifier.fit(xTrain, yTrain)\n",
        "results = cross_val_score(classifier, X, Y, cv=kfoldA)\n",
        "#print mean and std across all folds to get accuracy\n",
        "print(\"accuracy = %.3f%% (%.3f%%)\"  % (results.mean()*100.0, results.std()*100.0))"
      ],
      "metadata": {
        "colab": {
          "base_uri": "https://localhost:8080/"
        },
        "id": "h9_kHVJ81U9G",
        "outputId": "b2f99870-145b-4f5c-e638-c4150de61f14"
      },
      "execution_count": 26,
      "outputs": [
        {
          "output_type": "stream",
          "name": "stdout",
          "text": [
            "accuracy = 97.193% (1.701%)\n"
          ]
        }
      ]
    },
    {
      "cell_type": "code",
      "source": [
        "#10 kfolds\n",
        "kfoldB = KFold(n_splits=10, random_state=0, shuffle=True)\n",
        "classifier = LogisticRegression(solver='liblinear')\n",
        "classifier.fit(xTrain, yTrain)\n",
        "results = cross_val_score(classifier, X, Y, cv=kfoldB)\n",
        "#print mean and std across all folds to get accuracy\n",
        "print(\"accuracy = %.3f%% (%.3f%%)\"  % (results.mean()*100.0, results.std()*100.0))"
      ],
      "metadata": {
        "colab": {
          "base_uri": "https://localhost:8080/"
        },
        "id": "kcXkA-tE1Ya3",
        "outputId": "7756eb3c-086e-4aeb-e42e-2da8bc608a35"
      },
      "execution_count": 27,
      "outputs": [
        {
          "output_type": "stream",
          "name": "stdout",
          "text": [
            "accuracy = 97.895% (2.046%)\n"
          ]
        }
      ]
    },
    {
      "cell_type": "markdown",
      "source": [
        "These both are an improvement over the original accuracy of 0.9649"
      ],
      "metadata": {
        "id": "XfiT-baW1duI"
      }
    },
    {
      "cell_type": "markdown",
      "source": [
        "2. How about adding weight penalty here, considering the number of parameters. Add the weight penalty and repeat the training and report the average accuracy."
      ],
      "metadata": {
        "id": "th1PgmrO1vOK"
      }
    },
    {
      "cell_type": "code",
      "source": [
        "#redo but with weights\n",
        "X = breast_data\n",
        "Y = breast.target\n",
        "\n",
        "#standardize data before splitting\n",
        "scaler = StandardScaler()\n",
        "X = scaler.fit_transform(X)\n",
        "\n",
        "#split dataset\n",
        "xTrain, xTest, yTrain, yTest = train_test_split(X, Y, train_size = 0.8, test_size = 0.2)"
      ],
      "metadata": {
        "id": "ZzdYLA_n1xNd"
      },
      "execution_count": 28,
      "outputs": []
    },
    {
      "cell_type": "code",
      "source": [
        "#5 kfolds\n",
        "kfoldA = KFold(n_splits=5, random_state=0, shuffle=True)\n",
        "classifier = LogisticRegression(penalty=\"l2\", solver=\"newton-cg\", class_weight='balanced')\n",
        "classifier.fit(xTrain, yTrain)\n",
        "results = cross_val_score(classifier, X, Y, cv=kfoldA)\n",
        "#print mean and std across all folds to get accuracy\n",
        "print(\"accuracy = %.3f%% (%.3f%%)\"  % (results.mean()*100.0, results.std()*100.0))"
      ],
      "metadata": {
        "colab": {
          "base_uri": "https://localhost:8080/"
        },
        "id": "6ykSnreV2Fo_",
        "outputId": "44ce4d46-f7f2-4617-9c56-0d8681ee84a9"
      },
      "execution_count": 29,
      "outputs": [
        {
          "output_type": "stream",
          "name": "stdout",
          "text": [
            "accuracy = 97.016% (1.423%)\n"
          ]
        }
      ]
    },
    {
      "cell_type": "code",
      "source": [
        "#10 kfolds\n",
        "kfoldB = KFold(n_splits=10, random_state=0, shuffle=True)\n",
        "classifier = LogisticRegression(penalty=\"l2\", solver=\"newton-cg\", class_weight='balanced')\n",
        "classifier.fit(xTrain, yTrain)\n",
        "results = cross_val_score(classifier, X, Y, cv=kfoldB)\n",
        "#print mean and std across all folds to get accuracy\n",
        "print(\"accuracy = %.3f%% (%.3f%%)\"  % (results.mean()*100.0, results.std()*100.0))"
      ],
      "metadata": {
        "colab": {
          "base_uri": "https://localhost:8080/"
        },
        "id": "L2SYFGfr2Hm5",
        "outputId": "6fc36318-93ec-4a17-9020-0b308859f627"
      },
      "execution_count": 30,
      "outputs": [
        {
          "output_type": "stream",
          "name": "stdout",
          "text": [
            "accuracy = 97.190% (1.952%)\n"
          ]
        }
      ]
    },
    {
      "cell_type": "markdown",
      "source": [
        "Strangely, the accuracy is slightly decreased when weights are considered. Potentially due to different solver."
      ],
      "metadata": {
        "id": "z1HMevhR2rYA"
      }
    }
  ]
}