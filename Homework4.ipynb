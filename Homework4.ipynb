{
  "nbformat": 4,
  "nbformat_minor": 0,
  "metadata": {
    "colab": {
      "provenance": [],
      "collapsed_sections": []
    },
    "kernelspec": {
      "name": "python3",
      "display_name": "Python 3"
    },
    "language_info": {
      "name": "python"
    }
  },
  "cells": [
    {
      "cell_type": "markdown",
      "source": [
        "Ashley Brown 801055033 11/3/2022\n",
        "Homework 4"
      ],
      "metadata": {
        "id": "iJkGar9-zKB6"
      }
    },
    {
      "cell_type": "markdown",
      "source": [
        "In this homework, we will use the cancer dataset. (Note: You can use the built-in function from ML libraries for gradient descent, training, and validation.) Also, sample code for accessing and cleaning up the dataset provided in Canvas. For the evaluation of this homework across all problems, use 80%, 20% split. We will also use US Housing dataset with  80% and 20% split between training and evaluation (test) sets."
      ],
      "metadata": {
        "id": "z5w4xMb8zHvW"
      }
    },
    {
      "cell_type": "code",
      "source": [
        "#imports\n",
        "import numpy as np \n",
        "import pandas as pd \n",
        "import matplotlib.pyplot as plt \n",
        "from sklearn import preprocessing\n",
        "from sklearn.model_selection import train_test_split\n",
        "from sklearn.preprocessing import MinMaxScaler, StandardScaler\n",
        "from sklearn.model_selection import KFold\n",
        "from sklearn.model_selection import cross_val_score\n",
        "from sklearn.linear_model import LogisticRegression\n",
        "from sklearn import datasets\n",
        "from sklearn import metrics\n",
        "from sklearn.metrics import confusion_matrix\n",
        "from sklearn.metrics import classification_report\n",
        "from sklearn.datasets import load_breast_cancer\n",
        "import seaborn as sns\n",
        "from sklearn.naive_bayes import GaussianNB\n",
        "from sklearn.decomposition import PCA\n",
        "\n",
        "from scipy import stats\n",
        "from sklearn.svm import SVC\n",
        "from sklearn.svm import SVR\n",
        "from sklearn.metrics import r2_score\n",
        "from sklearn.metrics import mean_squared_error, mean_squared_log_error"
      ],
      "metadata": {
        "id": "tpRpBMKYzJkX"
      },
      "execution_count": 1,
      "outputs": []
    },
    {
      "cell_type": "markdown",
      "source": [
        "Problem 1 (50pts):\n",
        "\n",
        "Use the cancer dataset to build an SVM classifier to classify the type of cancer (Malignant vs. benign). Use the PCA feature extraction for your training. Perform N number of independent training (N=1, …, K).\n",
        "\n",
        "Identify the optimum number of K, principal components that achieve the highest classification accuracy. \n",
        "Plot your classification accuracy, precision, and recall over a different number of Ks. \n",
        "Explore different kernel tricks to capture non-linearities within your data. Plot the results and compare the accuracies for different kernels.\n",
        "Compare your results against the logistic regression that you have done in homework 3."
      ],
      "metadata": {
        "id": "ROaN44DqzYLv"
      }
    },
    {
      "cell_type": "code",
      "source": [
        "#model chosen:\n",
        "model = 'rbf'\n",
        "#kernel{‘linear’, ‘poly’, ‘rbf’, ‘sigmoid’, ‘precomputed’} or callable\n",
        "\n",
        "#repeat of hw3 stuff but with svm as the classifier\n",
        "#have to put cancer data into a data frame\n",
        "breast = load_breast_cancer()\n",
        "\n",
        "#load dataset\n",
        "breast = load_breast_cancer() \n",
        "breast_data = breast.data \n",
        "breast_input = pd.DataFrame(breast_data)\n",
        "\n",
        "X = breast_data\n",
        "Y = breast.target\n",
        "\n",
        "#standardize data before splitting\n",
        "scaler = StandardScaler()\n",
        "X = scaler.fit_transform(X)\n",
        "\n",
        "print(X.shape)\n",
        "print(Y.shape)"
      ],
      "metadata": {
        "id": "ZwFUazVmzZgP",
        "colab": {
          "base_uri": "https://localhost:8080/"
        },
        "outputId": "e654587b-6f4f-446d-c7fb-6ba079ab3332"
      },
      "execution_count": 2,
      "outputs": [
        {
          "output_type": "stream",
          "name": "stdout",
          "text": [
            "(569, 30)\n",
            "(569,)\n"
          ]
        }
      ]
    },
    {
      "cell_type": "code",
      "source": [
        "#storage variables:\n",
        "accuracy = []\n",
        "precision = []\n",
        "recall = []\n",
        "avg = 0\n",
        "\n",
        "#big loop\n",
        "for k in range(1, 31):\n",
        "  #perform PCA\n",
        "  pca = PCA(n_components=k)\n",
        "  pcaX = pca.fit_transform(X)\n",
        "\n",
        "  #split dataset using pca X\n",
        "  xTrain, xTest, yTrain, yTest = train_test_split(pcaX, Y, train_size = 0.8, test_size = 0.2, random_state = 0)\n",
        "\n",
        "  #perform log reg training on PCA data\n",
        "  classifier = SVC(kernel = model, class_weight='balanced', C= 10)\n",
        "  #kernel{‘linear’, ‘poly’, ‘rbf’, ‘sigmoid’, ‘precomputed’} or callable\n",
        "  classifier.fit(xTrain, yTrain)\n",
        "\n",
        "  #prediction function\n",
        "  yPred = classifier.predict(xTest)\n",
        "\n",
        "  #get confusion matrix values\n",
        "  cmatrix = confusion_matrix(yTest, yPred)\n",
        "\n",
        "  #store values in array.\n",
        "  accuracyTemp = metrics.accuracy_score(yTest, yPred)\n",
        "  precisionTemp = metrics.precision_score(yTest, yPred) \n",
        "  recallTemp = metrics.recall_score(yTest, yPred) \n",
        "\n",
        "  accuracy.append(accuracyTemp)\n",
        "  precision.append(precisionTemp)\n",
        "  recall.append(recallTemp)\n",
        "\n",
        "  #if best accuracy/precision/recall values so far, store index\n",
        "  new = (accuracyTemp + precisionTemp + recallTemp)/3\n",
        "  if avg < new:\n",
        "    avg = new\n",
        "    index = k"
      ],
      "metadata": {
        "id": "MvbM552c1Qau"
      },
      "execution_count": 3,
      "outputs": []
    },
    {
      "cell_type": "code",
      "source": [
        "#plot final values\n",
        "plt.plot(accuracy)\n",
        "plt.xlabel('K')\n",
        "plt.ylabel('accuracy')\n",
        "plt.title('accuracy vs K')\n",
        "plt.show()\n",
        "\n",
        "plt.plot(precision)\n",
        "plt.xlabel('K')\n",
        "plt.ylabel('precision')\n",
        "plt.title('precision vs K')\n",
        "plt.show()\n",
        "\n",
        "plt.plot(recall)\n",
        "plt.xlabel('K')\n",
        "plt.ylabel('recall')\n",
        "plt.title('recall vs K')\n",
        "plt.show()"
      ],
      "metadata": {
        "colab": {
          "base_uri": "https://localhost:8080/",
          "height": 851
        },
        "id": "6zmMNPZO2R3Y",
        "outputId": "304933f1-59ea-4951-d83c-70c3364a42b4"
      },
      "execution_count": 4,
      "outputs": [
        {
          "output_type": "display_data",
          "data": {
            "text/plain": [
              "<Figure size 432x288 with 1 Axes>"
            ],
            "image/png": "[encoded data removed]"
          },
          "metadata": {
            "needs_background": "light"
          }
        },
        {
          "output_type": "display_data",
          "data": {
            "text/plain": [
              "<Figure size 432x288 with 1 Axes>"
            ],
            "image/png": "[encoded data removed]"
          },
          "metadata": {
            "needs_background": "light"
          }
        },
        {
          "output_type": "display_data",
          "data": {
            "text/plain": [
              "<Figure size 432x288 with 1 Axes>"
            ],
            "image/png": "[encoded data removed]"
          },
          "metadata": {
            "needs_background": "light"
          }
        }
      ]
    },
    {
      "cell_type": "markdown",
      "source": [
        "On the graph, you can visually see some peaks. The highest peak was stored and the training is performed in the code below:"
      ],
      "metadata": {
        "id": "kPZuzbvi2VIh"
      }
    },
    {
      "cell_type": "code",
      "source": [
        "#highest k value:\n",
        "#perform PCA\n",
        "pca = PCA(n_components=index)\n",
        "pcaX = pca.fit_transform(X)\n",
        "\n",
        "#split dataset using pca X\n",
        "xTrain, xTest, yTrain, yTest = train_test_split(pcaX, Y, train_size = 0.8, test_size = 0.2, random_state = 0)\n",
        "\n",
        "#train using same model as before\n",
        "classifier.fit(xTrain, yTrain)\n",
        "\n",
        "#prediction function\n",
        "yPred = classifier.predict(xTest)\n",
        "\n",
        "#get confusion matrix values\n",
        "cmatrix = confusion_matrix(yTest, yPred)\n",
        "\n",
        "#print metrics etc.\n",
        "print(\"This is the model with the highest average accuracy/precision/recall for\",model,\":\")\n",
        "print(\"K =\",index)\n",
        "print(\"accuracy =\",metrics.accuracy_score(yTest, yPred)) \n",
        "print(\"precision =\",metrics.precision_score(yTest, yPred)) \n",
        "print(\"recall = \",metrics.recall_score(yTest, yPred)) \n",
        "print(\"classification report: \\n\",metrics.classification_report(yTest, yPred)) \n",
        "print(\"confusion matrix: \\n\",metrics.confusion_matrix(yTest, yPred))"
      ],
      "metadata": {
        "colab": {
          "base_uri": "https://localhost:8080/"
        },
        "id": "DSF-7Jk62TB_",
        "outputId": "fcacfbcc-4c40-4185-a7bc-8be41c58b862"
      },
      "execution_count": 5,
      "outputs": [
        {
          "output_type": "stream",
          "name": "stdout",
          "text": [
            "This is the model with the highest average accuracy/precision/recall for rbf :\n",
            "K = 13\n",
            "accuracy = 0.9912280701754386\n",
            "precision = 0.9852941176470589\n",
            "recall =  1.0\n",
            "classification report: \n",
            "               precision    recall  f1-score   support\n",
            "\n",
            "           0       1.00      0.98      0.99        47\n",
            "           1       0.99      1.00      0.99        67\n",
            "\n",
            "    accuracy                           0.99       114\n",
            "   macro avg       0.99      0.99      0.99       114\n",
            "weighted avg       0.99      0.99      0.99       114\n",
            "\n",
            "confusion matrix: \n",
            " [[46  1]\n",
            " [ 0 67]]\n"
          ]
        }
      ]
    },
    {
      "cell_type": "markdown",
      "source": [
        "The classifier was changed manually to change kernel tricks, otherwise the code would be exceptionally long, slow, and repetitive."
      ],
      "metadata": {
        "id": "BBPWQ9lK21Nz"
      }
    },
    {
      "cell_type": "markdown",
      "source": [
        "Problem 2 (50pts):\n",
        "\n",
        "Develop a SVR regression model that predicts housing price based on the following input variables:\n",
        "\n",
        "Area, bedrooms, bathrooms, stories, mainroad, guestroom, basement, hotwaterheating, airconditioning, parking, prefarea\n",
        "\n",
        "Plot your regression model for SVR similar to the sample code provided on Canvas.\n",
        "Compare your results against linear regression with regularization loss that you already did in homework1. \n",
        "Use the PCA feature extraction for your training. Perform N number of independent training (N=1, …, K). Identify the optimum number of K, principal components that achieve the highest regression accuracy. \n",
        "Explore different kernel tricks to capture non-linearities within your data. Plot the results and compare the accuracies for different kernels."
      ],
      "metadata": {
        "id": "DUxagWZ62-E3"
      }
    },
    {
      "cell_type": "code",
      "source": [
        "#model chosen:\n",
        "model = 'rbf'\n",
        "#kernel{‘linear’, ‘poly’, ‘rbf’, ‘sigmoid’, ‘precomputed’} or callable, default=’rbf’\n",
        "\n",
        "#code from hw1 mostly:\n",
        "#configure data sets\n",
        "data_set = '/content/drive/MyDrive/IntroToMachineLearning/Housing.csv'\n",
        "df2 = pd.read_csv(data_set)\n",
        "dfstand = pd.DataFrame(df2)\n",
        "#print(dfstand.shape)\n",
        "\n",
        "#map function definition:\n",
        "def binarymap(x):\n",
        "  return x.map({\"yes\": 1, \"no\": 0}) #dont need to use furnished ever so dont bother changing it\n",
        "\n",
        "varlist = ['area', 'bedrooms', 'bathrooms', 'stories', 'mainroad', 'guestroom', 'basement', 'hotwaterheating', 'airconditioning', 'parking', 'prefarea']\n",
        "#convert yesses and nos to 1 or 0\n",
        "maplist = ['mainroad', 'guestroom', 'basement', 'hotwaterheating', 'airconditioning', 'prefarea']\n",
        "dfstand[maplist] = dfstand[maplist].apply(binarymap)\n",
        "\n",
        "#standardize\n",
        "scaler = StandardScaler()\n",
        "dfstand[varlist] = scaler.fit_transform(dfstand[varlist])\n",
        "\n",
        "#set inputs and outputs\n",
        "#stand_input = dfstand[varlist]\n",
        "Y = dfstand.loc[:, dfstand.columns == 'price']\n",
        "Y = Y.to_numpy()\n",
        "Y = Y.flatten()\n",
        "YSeries = pd.Series(Y)\n",
        "\n",
        "#concat ones vector\n",
        "X = dfstand[varlist]\n",
        "#print(X.shape)\n",
        "#print(YSeries.shape)"
      ],
      "metadata": {
        "id": "oDVdmoR83A7A"
      },
      "execution_count": 6,
      "outputs": []
    },
    {
      "cell_type": "code",
      "source": [
        "#storage variables:\n",
        "Train = []\n",
        "Pred = []\n",
        "Test = []\n",
        "R2 = 0\n",
        "\n",
        "#big loop\n",
        "for k in range(1, 11):\n",
        "  #perform PCA\n",
        "  pca = PCA(n_components=k)\n",
        "  pcaX = pca.fit_transform(X)\n",
        "\n",
        "  #fix values\n",
        "  pcaDF = pd.DataFrame(data = pcaX, columns = [*range(1,k+1)]) \n",
        "  combinedDF = pd.concat([pcaDF, YSeries], axis = 1)\n",
        "  outcome = combinedDF.pop(1)\n",
        "  \n",
        "  #final X and Y values\n",
        "  X2 = combinedDF.values\n",
        "  Y2 = outcome.values\n",
        "\n",
        "  #split dataset using pca X\n",
        "  xTrain, xTest, yTrain, yTest = train_test_split(X2, Y2, train_size = 0.8, test_size = 0.2, random_state = 0)\n",
        "\n",
        "  #perform log reg training on PCA data\n",
        "  classifier = SVR(kernel = model)\n",
        "\n",
        "  classifier.fit(xTrain, yTrain)\n",
        "\n",
        "  #prediction function\n",
        "  yPred = classifier.predict(xTest)\n",
        "\n",
        "  #store values in array.\n",
        "  classifierR2= classifier.score(xTrain, yTrain)\n",
        "  R2Pred = r2_score(yTest, yPred)\n",
        "  R2Test = classifier.score(xTest, yTest)\n",
        "\n",
        "  Test.append(R2Test)\n",
        "  Train.append(classifierR2)\n",
        "  Pred.append(R2Pred)\n",
        "\n",
        "  #if best accuracy/precision/recall values so far, store index\n",
        "  if R2 < classifierR2: \n",
        "    R2 = classifierR2\n",
        "    index = k"
      ],
      "metadata": {
        "id": "59sCzXvN4tXp"
      },
      "execution_count": 7,
      "outputs": []
    },
    {
      "cell_type": "code",
      "source": [
        "#accuracy plot\n",
        "plt.plot(Pred)\n",
        "plt.xlabel('k')\n",
        "plt.ylabel('r2')\n",
        "plt.title('r2 vs k value for prediction')"
      ],
      "metadata": {
        "colab": {
          "base_uri": "https://localhost:8080/",
          "height": 313
        },
        "id": "jFr7DyftDx9F",
        "outputId": "2938becb-202f-4c6f-ddb3-6ef2a6a6f361"
      },
      "execution_count": 8,
      "outputs": [
        {
          "output_type": "execute_result",
          "data": {
            "text/plain": [
              "Text(0.5, 1.0, 'r2 vs k value for prediction')"
            ]
          },
          "metadata": {},
          "execution_count": 8
        },
        {
          "output_type": "display_data",
          "data": {
            "text/plain": [
              "<Figure size 432x288 with 1 Axes>"
            ],
            "image/png": "[encoded data removed]"
          },
          "metadata": {
            "needs_background": "light"
          }
        }
      ]
    },
    {
      "cell_type": "markdown",
      "source": [
        "On the graph, you can visually see some peaks. The highest peak was stored and the training is performed in the code below:"
      ],
      "metadata": {
        "id": "rH_YmAow_O1D"
      }
    },
    {
      "cell_type": "code",
      "source": [
        "#highest k value:\n",
        "#perform PCA\n",
        "pca = PCA(n_components=index)\n",
        "pcaX = pca.fit_transform(X)\n",
        "pcaDF = pd.DataFrame(data = pcaX, columns = [*range(1,index+1)]) \n",
        "combinedDF = pd.concat([pcaDF, YSeries], axis = 1)\n",
        "outcome = combinedDF.pop(1)\n",
        "  \n",
        "#final X and Y values\n",
        "X2 = combinedDF.values\n",
        "Y2 = outcome.values\n",
        "\n",
        "#split dataset using pca X\n",
        "xTrain, xTest, yTrain, yTest = train_test_split(X2, Y2, train_size = 0.8, test_size = 0.2, random_state = 0)\n",
        "\n",
        "#perform log reg training on PCA data\n",
        "classifier = SVR(kernel = 'rbf')\n",
        "\n",
        "classifier.fit(xTrain, yTrain)\n",
        "\n",
        "#prediction function\n",
        "yPred = classifier.predict(xTest)\n",
        "\n",
        "#print metrics etc.\n",
        "print(\"This is the model with the highest r2 metrics for\",model,\":\")\n",
        "print(\"K =\",index)\n",
        "print(\"r2 for pred:\",r2_score(yTest, yPred))"
      ],
      "metadata": {
        "colab": {
          "base_uri": "https://localhost:8080/"
        },
        "id": "n8znK3Mz_McY",
        "outputId": "c74aaefe-6b93-431c-decd-b8281f50ee12"
      },
      "execution_count": 9,
      "outputs": [
        {
          "output_type": "stream",
          "name": "stdout",
          "text": [
            "This is the model with the highest r2 metrics for rbf :\n",
            "K = 1\n",
            "r2 for pred: 0.6493384105228814\n"
          ]
        }
      ]
    },
    {
      "cell_type": "markdown",
      "source": [
        "The classifier was changed manually to change kernel tricks, otherwise the code would be exceptionally long, slow, and repetitive."
      ],
      "metadata": {
        "id": "_G2wjtlV_Ude"
      }
    },
    {
      "cell_type": "code",
      "source": [
        "#problem 2 part 1, svr loss model: (broken, not sure what I did wrong)\n",
        "plt.plot(xTest,yPred,color='cyan',label='rbf model')\n",
        "plt.scatter(xTest,yTest,color='magenta',label='data')\n",
        "plt.xlabel('data')\n",
        "plt.ylabel('target')\n",
        "plt.title('SVR Loss')"
      ],
      "metadata": {
        "colab": {
          "base_uri": "https://localhost:8080/",
          "height": 313
        },
        "id": "j6D8I4-NTlxD",
        "outputId": "c3436c3c-94e8-4c44-aeea-d2730f9ba88e"
      },
      "execution_count": 10,
      "outputs": [
        {
          "output_type": "execute_result",
          "data": {
            "text/plain": [
              "Text(0.5, 1.0, 'SVR Loss')"
            ]
          },
          "metadata": {},
          "execution_count": 10
        },
        {
          "output_type": "display_data",
          "data": {
            "text/plain": [
              "<Figure size 432x288 with 1 Axes>"
            ],
            "image/png": "[encoded data removed]"
          },
          "metadata": {
            "needs_background": "light"
          }
        }
      ]
    }
  ]
}