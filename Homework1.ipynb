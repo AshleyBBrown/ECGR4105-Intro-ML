{
  "nbformat": 4,
  "nbformat_minor": 0,
  "metadata": {
    "colab": {
      "provenance": [],
      "collapsed_sections": []
    },
    "kernelspec": {
      "name": "python3",
      "display_name": "Python 3"
    },
    "language_info": {
      "name": "python"
    }
  },
  "cells": [
    {
      "cell_type": "markdown",
      "source": [
        "Ashley Brown\n",
        "801055033\n",
        "9/29/2022\n",
        "\n",
        "Homework 1 (100 Points)\n",
        "\n",
        "In this homework, we will use US Housing dataset. You will develop linear regression with gradient decent algorithm to estimate the price of the house. In this homework, we will use 80% and 20% split between training and evaluation (test) sets across all problems. (Note: You cannot use the built-in function from ML libraries for gradient descent, you must implement it yourself. However, you can use built-in function for normalization/standardization)"
      ],
      "metadata": {
        "id": "eP-JzreE-BDx"
      }
    },
    {
      "cell_type": "markdown",
      "source": [
        "Problem 1 (30 points)\n",
        "\n",
        "1.a) Develop a gradient decent training and evaluation code that predicts housing price based on the following input variables:\n",
        "\n",
        "area, bedrooms, bathrooms, stories, parking\n",
        "\n",
        "Identify the best parameters for your linear regression model, based on the above input variables. \n",
        "\n",
        "Plot the training and validation losses (in a single graph, but two different lines). For the learning rate, explore different values between 0.1 and 0.01 (your choice). Initialize your parameters (thetas to zero). For the training iteration, choose what you believe fits the best. "
      ],
      "metadata": {
        "id": "htfivR9--W78"
      }
    },
    {
      "cell_type": "code",
      "execution_count": 1,
      "metadata": {
        "id": "pEDguDP598tQ"
      },
      "outputs": [],
      "source": [
        "#imports\n",
        "import numpy as np \n",
        "import pandas as pd \n",
        "import matplotlib.pyplot as plt \n",
        "from sklearn import preprocessing\n",
        "from sklearn.model_selection import train_test_split\n",
        "from sklearn.preprocessing import MinMaxScaler, StandardScaler"
      ]
    },
    {
      "cell_type": "code",
      "source": [
        "#configure data sets\n",
        "data_set = '/content/drive/MyDrive/IntroToMachineLearning/Housing.csv'\n",
        "df1 = pd.read_csv(data_set)\n",
        "df1.head() # get first n rows from the dataset, default value of n is 5 \n",
        "#m=len(df1) \n",
        "#m #print for verification"
      ],
      "metadata": {
        "colab": {
          "base_uri": "https://localhost:8080/",
          "height": 270
        },
        "id": "2sEDocVN-jUL",
        "outputId": "9595e978-693e-48c1-e3ec-0a9ada486d68"
      },
      "execution_count": 2,
      "outputs": [
        {
          "output_type": "execute_result",
          "data": {
            "text/plain": [
              "      price  area  bedrooms  bathrooms  stories mainroad guestroom basement  \\\n",
              "0  13300000  7420         4          2        3      yes        no       no   \n",
              "1  12250000  8960         4          4        4      yes        no       no   \n",
              "2  12250000  9960         3          2        2      yes        no      yes   \n",
              "3  12215000  7500         4          2        2      yes        no      yes   \n",
              "4  11410000  7420         4          1        2      yes       yes      yes   \n",
              "\n",
              "  hotwaterheating airconditioning  parking prefarea furnishingstatus  \n",
              "0              no             yes        2      yes        furnished  \n",
              "1              no             yes        3       no        furnished  \n",
              "2              no              no        2      yes   semi-furnished  \n",
              "3              no             yes        3      yes        furnished  \n",
              "4              no             yes        2       no        furnished  "
            ],
            "text/html": [
              "\n",
              "  <div id=\"df-c204e5c7-9e28-4641-8ded-f928f0a3f328\">\n",
              "    <div class=\"colab-df-container\">\n",
              "      <div>\n",
              "<style scoped>\n",
              "    .dataframe tbody tr th:only-of-type {\n",
              "        vertical-align: middle;\n",
              "    }\n",
              "\n",
              "    .dataframe tbody tr th {\n",
              "        vertical-align: top;\n",
              "    }\n",
              "\n",
              "    .dataframe thead th {\n",
              "        text-align: right;\n",
              "    }\n",
              "</style>\n",
              "<table border=\"1\" class=\"dataframe\">\n",
              "  <thead>\n",
              "    <tr style=\"text-align: right;\">\n",
              "      <th></th>\n",
              "      <th>price</th>\n",
              "      <th>area</th>\n",
              "      <th>bedrooms</th>\n",
              "      <th>bathrooms</th>\n",
              "      <th>stories</th>\n",
              "      <th>mainroad</th>\n",
              "      <th>guestroom</th>\n",
              "      <th>basement</th>\n",
              "      <th>hotwaterheating</th>\n",
              "      <th>airconditioning</th>\n",
              "      <th>parking</th>\n",
              "      <th>prefarea</th>\n",
              "      <th>furnishingstatus</th>\n",
              "    </tr>\n",
              "  </thead>\n",
              "  <tbody>\n",
              "    <tr>\n",
              "      <th>0</th>\n",
              "      <td>13300000</td>\n",
              "      <td>7420</td>\n",
              "      <td>4</td>\n",
              "      <td>2</td>\n",
              "      <td>3</td>\n",
              "      <td>yes</td>\n",
              "      <td>no</td>\n",
              "      <td>no</td>\n",
              "      <td>no</td>\n",
              "      <td>yes</td>\n",
              "      <td>2</td>\n",
              "      <td>yes</td>\n",
              "      <td>furnished</td>\n",
              "    </tr>\n",
              "    <tr>\n",
              "      <th>1</th>\n",
              "      <td>12250000</td>\n",
              "      <td>8960</td>\n",
              "      <td>4</td>\n",
              "      <td>4</td>\n",
              "      <td>4</td>\n",
              "      <td>yes</td>\n",
              "      <td>no</td>\n",
              "      <td>no</td>\n",
              "      <td>no</td>\n",
              "      <td>yes</td>\n",
              "      <td>3</td>\n",
              "      <td>no</td>\n",
              "      <td>furnished</td>\n",
              "    </tr>\n",
              "    <tr>\n",
              "      <th>2</th>\n",
              "      <td>12250000</td>\n",
              "      <td>9960</td>\n",
              "      <td>3</td>\n",
              "      <td>2</td>\n",
              "      <td>2</td>\n",
              "      <td>yes</td>\n",
              "      <td>no</td>\n",
              "      <td>yes</td>\n",
              "      <td>no</td>\n",
              "      <td>no</td>\n",
              "      <td>2</td>\n",
              "      <td>yes</td>\n",
              "      <td>semi-furnished</td>\n",
              "    </tr>\n",
              "    <tr>\n",
              "      <th>3</th>\n",
              "      <td>12215000</td>\n",
              "      <td>7500</td>\n",
              "      <td>4</td>\n",
              "      <td>2</td>\n",
              "      <td>2</td>\n",
              "      <td>yes</td>\n",
              "      <td>no</td>\n",
              "      <td>yes</td>\n",
              "      <td>no</td>\n",
              "      <td>yes</td>\n",
              "      <td>3</td>\n",
              "      <td>yes</td>\n",
              "      <td>furnished</td>\n",
              "    </tr>\n",
              "    <tr>\n",
              "      <th>4</th>\n",
              "      <td>11410000</td>\n",
              "      <td>7420</td>\n",
              "      <td>4</td>\n",
              "      <td>1</td>\n",
              "      <td>2</td>\n",
              "      <td>yes</td>\n",
              "      <td>yes</td>\n",
              "      <td>yes</td>\n",
              "      <td>no</td>\n",
              "      <td>yes</td>\n",
              "      <td>2</td>\n",
              "      <td>no</td>\n",
              "      <td>furnished</td>\n",
              "    </tr>\n",
              "  </tbody>\n",
              "</table>\n",
              "</div>\n",
              "      <button class=\"colab-df-convert\" onclick=\"convertToInteractive('df-c204e5c7-9e28-4641-8ded-f928f0a3f328')\"\n",
              "              title=\"Convert this dataframe to an interactive table.\"\n",
              "              style=\"display:none;\">\n",
              "        \n",
              "  <svg xmlns=\"http://www.w3.org/2000/svg\" height=\"24px\"viewBox=\"0 0 24 24\"\n",
              "       width=\"24px\">\n",
              "    <path d=\"M0 0h24v24H0V0z\" fill=\"none\"/>\n",
              "    <path d=\"M18.56 5.44l.94 2.06.94-2.06 2.06-.94-2.06-.94-.94-2.06-.94 2.06-2.06.94zm-11 1L8.5 8.5l.94-2.06 2.06-.94-2.06-.94L8.5 2.5l-.94 2.06-2.06.94zm10 10l.94 2.06.94-2.06 2.06-.94-2.06-.94-.94-2.06-.94 2.06-2.06.94z\"/><path d=\"M17.41 7.96l-1.37-1.37c-.4-.4-.92-.59-1.43-.59-.52 0-1.04.2-1.43.59L10.3 9.45l-7.72 7.72c-.78.78-.78 2.05 0 2.83L4 21.41c.39.39.9.59 1.41.59.51 0 1.02-.2 1.41-.59l7.78-7.78 2.81-2.81c.8-.78.8-2.07 0-2.86zM5.41 20L4 18.59l7.72-7.72 1.47 1.35L5.41 20z\"/>\n",
              "  </svg>\n",
              "      </button>\n",
              "      \n",
              "  <style>\n",
              "    .colab-df-container {\n",
              "      display:flex;\n",
              "      flex-wrap:wrap;\n",
              "      gap: 12px;\n",
              "    }\n",
              "\n",
              "    .colab-df-convert {\n",
              "      background-color: #E8F0FE;\n",
              "      border: none;\n",
              "      border-radius: 50%;\n",
              "      cursor: pointer;\n",
              "      display: none;\n",
              "      fill: #1967D2;\n",
              "      height: 32px;\n",
              "      padding: 0 0 0 0;\n",
              "      width: 32px;\n",
              "    }\n",
              "\n",
              "    .colab-df-convert:hover {\n",
              "      background-color: #E2EBFA;\n",
              "      box-shadow: 0px 1px 2px rgba(60, 64, 67, 0.3), 0px 1px 3px 1px rgba(60, 64, 67, 0.15);\n",
              "      fill: #174EA6;\n",
              "    }\n",
              "\n",
              "    [theme=dark] .colab-df-convert {\n",
              "      background-color: #3B4455;\n",
              "      fill: #D2E3FC;\n",
              "    }\n",
              "\n",
              "    [theme=dark] .colab-df-convert:hover {\n",
              "      background-color: #434B5C;\n",
              "      box-shadow: 0px 1px 3px 1px rgba(0, 0, 0, 0.15);\n",
              "      filter: drop-shadow(0px 1px 2px rgba(0, 0, 0, 0.3));\n",
              "      fill: #FFFFFF;\n",
              "    }\n",
              "  </style>\n",
              "\n",
              "      <script>\n",
              "        const buttonEl =\n",
              "          document.querySelector('#df-c204e5c7-9e28-4641-8ded-f928f0a3f328 button.colab-df-convert');\n",
              "        buttonEl.style.display =\n",
              "          google.colab.kernel.accessAllowed ? 'block' : 'none';\n",
              "\n",
              "        async function convertToInteractive(key) {\n",
              "          const element = document.querySelector('#df-c204e5c7-9e28-4641-8ded-f928f0a3f328');\n",
              "          const dataTable =\n",
              "            await google.colab.kernel.invokeFunction('convertToInteractive',\n",
              "                                                     [key], {});\n",
              "          if (!dataTable) return;\n",
              "\n",
              "          const docLinkHtml = 'Like what you see? Visit the ' +\n",
              "            '<a target=\"_blank\" href=https://colab.research.google.com/notebooks/data_table.ipynb>data table notebook</a>'\n",
              "            + ' to learn more about interactive tables.';\n",
              "          element.innerHTML = '';\n",
              "          dataTable['output_type'] = 'display_data';\n",
              "          await google.colab.output.renderOutput(dataTable, element);\n",
              "          const docLink = document.createElement('div');\n",
              "          docLink.innerHTML = docLinkHtml;\n",
              "          element.appendChild(docLink);\n",
              "        }\n",
              "      </script>\n",
              "    </div>\n",
              "  </div>\n",
              "  "
            ]
          },
          "metadata": {},
          "execution_count": 2
        }
      ]
    },
    {
      "cell_type": "code",
      "source": [
        "#convert yesses and nos to 1 or 0\n",
        "varlist = ['mainroad', 'guestroom', 'basement', 'hotwaterheating', 'airconditioning', 'prefarea']\n",
        "#map function definition:\n",
        "def binarymap(x):\n",
        "  return x.map({\"yes\": 1, \"no\": 0}) #dont need to use furnished ever so dont bother changing it\n",
        "\n",
        "#use function on housing list\n",
        "df1[varlist] = df1[varlist].apply(binarymap)\n",
        "\n",
        "df1.head()"
      ],
      "metadata": {
        "colab": {
          "base_uri": "https://localhost:8080/",
          "height": 270
        },
        "id": "FMtwPoI7BNGA",
        "outputId": "b758a27c-d127-448c-aa49-afaf15277631"
      },
      "execution_count": 3,
      "outputs": [
        {
          "output_type": "execute_result",
          "data": {
            "text/plain": [
              "      price  area  bedrooms  bathrooms  stories  mainroad  guestroom  \\\n",
              "0  13300000  7420         4          2        3         1          0   \n",
              "1  12250000  8960         4          4        4         1          0   \n",
              "2  12250000  9960         3          2        2         1          0   \n",
              "3  12215000  7500         4          2        2         1          0   \n",
              "4  11410000  7420         4          1        2         1          1   \n",
              "\n",
              "   basement  hotwaterheating  airconditioning  parking  prefarea  \\\n",
              "0         0                0                1        2         1   \n",
              "1         0                0                1        3         0   \n",
              "2         1                0                0        2         1   \n",
              "3         1                0                1        3         1   \n",
              "4         1                0                1        2         0   \n",
              "\n",
              "  furnishingstatus  \n",
              "0        furnished  \n",
              "1        furnished  \n",
              "2   semi-furnished  \n",
              "3        furnished  \n",
              "4        furnished  "
            ],
            "text/html": [
              "\n",
              "  <div id=\"df-0e523fcc-bc75-4ced-baf8-950db2e3edc7\">\n",
              "    <div class=\"colab-df-container\">\n",
              "      <div>\n",
              "<style scoped>\n",
              "    .dataframe tbody tr th:only-of-type {\n",
              "        vertical-align: middle;\n",
              "    }\n",
              "\n",
              "    .dataframe tbody tr th {\n",
              "        vertical-align: top;\n",
              "    }\n",
              "\n",
              "    .dataframe thead th {\n",
              "        text-align: right;\n",
              "    }\n",
              "</style>\n",
              "<table border=\"1\" class=\"dataframe\">\n",
              "  <thead>\n",
              "    <tr style=\"text-align: right;\">\n",
              "      <th></th>\n",
              "      <th>price</th>\n",
              "      <th>area</th>\n",
              "      <th>bedrooms</th>\n",
              "      <th>bathrooms</th>\n",
              "      <th>stories</th>\n",
              "      <th>mainroad</th>\n",
              "      <th>guestroom</th>\n",
              "      <th>basement</th>\n",
              "      <th>hotwaterheating</th>\n",
              "      <th>airconditioning</th>\n",
              "      <th>parking</th>\n",
              "      <th>prefarea</th>\n",
              "      <th>furnishingstatus</th>\n",
              "    </tr>\n",
              "  </thead>\n",
              "  <tbody>\n",
              "    <tr>\n",
              "      <th>0</th>\n",
              "      <td>13300000</td>\n",
              "      <td>7420</td>\n",
              "      <td>4</td>\n",
              "      <td>2</td>\n",
              "      <td>3</td>\n",
              "      <td>1</td>\n",
              "      <td>0</td>\n",
              "      <td>0</td>\n",
              "      <td>0</td>\n",
              "      <td>1</td>\n",
              "      <td>2</td>\n",
              "      <td>1</td>\n",
              "      <td>furnished</td>\n",
              "    </tr>\n",
              "    <tr>\n",
              "      <th>1</th>\n",
              "      <td>12250000</td>\n",
              "      <td>8960</td>\n",
              "      <td>4</td>\n",
              "      <td>4</td>\n",
              "      <td>4</td>\n",
              "      <td>1</td>\n",
              "      <td>0</td>\n",
              "      <td>0</td>\n",
              "      <td>0</td>\n",
              "      <td>1</td>\n",
              "      <td>3</td>\n",
              "      <td>0</td>\n",
              "      <td>furnished</td>\n",
              "    </tr>\n",
              "    <tr>\n",
              "      <th>2</th>\n",
              "      <td>12250000</td>\n",
              "      <td>9960</td>\n",
              "      <td>3</td>\n",
              "      <td>2</td>\n",
              "      <td>2</td>\n",
              "      <td>1</td>\n",
              "      <td>0</td>\n",
              "      <td>1</td>\n",
              "      <td>0</td>\n",
              "      <td>0</td>\n",
              "      <td>2</td>\n",
              "      <td>1</td>\n",
              "      <td>semi-furnished</td>\n",
              "    </tr>\n",
              "    <tr>\n",
              "      <th>3</th>\n",
              "      <td>12215000</td>\n",
              "      <td>7500</td>\n",
              "      <td>4</td>\n",
              "      <td>2</td>\n",
              "      <td>2</td>\n",
              "      <td>1</td>\n",
              "      <td>0</td>\n",
              "      <td>1</td>\n",
              "      <td>0</td>\n",
              "      <td>1</td>\n",
              "      <td>3</td>\n",
              "      <td>1</td>\n",
              "      <td>furnished</td>\n",
              "    </tr>\n",
              "    <tr>\n",
              "      <th>4</th>\n",
              "      <td>11410000</td>\n",
              "      <td>7420</td>\n",
              "      <td>4</td>\n",
              "      <td>1</td>\n",
              "      <td>2</td>\n",
              "      <td>1</td>\n",
              "      <td>1</td>\n",
              "      <td>1</td>\n",
              "      <td>0</td>\n",
              "      <td>1</td>\n",
              "      <td>2</td>\n",
              "      <td>0</td>\n",
              "      <td>furnished</td>\n",
              "    </tr>\n",
              "  </tbody>\n",
              "</table>\n",
              "</div>\n",
              "      <button class=\"colab-df-convert\" onclick=\"convertToInteractive('df-0e523fcc-bc75-4ced-baf8-950db2e3edc7')\"\n",
              "              title=\"Convert this dataframe to an interactive table.\"\n",
              "              style=\"display:none;\">\n",
              "        \n",
              "  <svg xmlns=\"http://www.w3.org/2000/svg\" height=\"24px\"viewBox=\"0 0 24 24\"\n",
              "       width=\"24px\">\n",
              "    <path d=\"M0 0h24v24H0V0z\" fill=\"none\"/>\n",
              "    <path d=\"M18.56 5.44l.94 2.06.94-2.06 2.06-.94-2.06-.94-.94-2.06-.94 2.06-2.06.94zm-11 1L8.5 8.5l.94-2.06 2.06-.94-2.06-.94L8.5 2.5l-.94 2.06-2.06.94zm10 10l.94 2.06.94-2.06 2.06-.94-2.06-.94-.94-2.06-.94 2.06-2.06.94z\"/><path d=\"M17.41 7.96l-1.37-1.37c-.4-.4-.92-.59-1.43-.59-.52 0-1.04.2-1.43.59L10.3 9.45l-7.72 7.72c-.78.78-.78 2.05 0 2.83L4 21.41c.39.39.9.59 1.41.59.51 0 1.02-.2 1.41-.59l7.78-7.78 2.81-2.81c.8-.78.8-2.07 0-2.86zM5.41 20L4 18.59l7.72-7.72 1.47 1.35L5.41 20z\"/>\n",
              "  </svg>\n",
              "      </button>\n",
              "      \n",
              "  <style>\n",
              "    .colab-df-container {\n",
              "      display:flex;\n",
              "      flex-wrap:wrap;\n",
              "      gap: 12px;\n",
              "    }\n",
              "\n",
              "    .colab-df-convert {\n",
              "      background-color: #E8F0FE;\n",
              "      border: none;\n",
              "      border-radius: 50%;\n",
              "      cursor: pointer;\n",
              "      display: none;\n",
              "      fill: #1967D2;\n",
              "      height: 32px;\n",
              "      padding: 0 0 0 0;\n",
              "      width: 32px;\n",
              "    }\n",
              "\n",
              "    .colab-df-convert:hover {\n",
              "      background-color: #E2EBFA;\n",
              "      box-shadow: 0px 1px 2px rgba(60, 64, 67, 0.3), 0px 1px 3px 1px rgba(60, 64, 67, 0.15);\n",
              "      fill: #174EA6;\n",
              "    }\n",
              "\n",
              "    [theme=dark] .colab-df-convert {\n",
              "      background-color: #3B4455;\n",
              "      fill: #D2E3FC;\n",
              "    }\n",
              "\n",
              "    [theme=dark] .colab-df-convert:hover {\n",
              "      background-color: #434B5C;\n",
              "      box-shadow: 0px 1px 3px 1px rgba(0, 0, 0, 0.15);\n",
              "      filter: drop-shadow(0px 1px 2px rgba(0, 0, 0, 0.3));\n",
              "      fill: #FFFFFF;\n",
              "    }\n",
              "  </style>\n",
              "\n",
              "      <script>\n",
              "        const buttonEl =\n",
              "          document.querySelector('#df-0e523fcc-bc75-4ced-baf8-950db2e3edc7 button.colab-df-convert');\n",
              "        buttonEl.style.display =\n",
              "          google.colab.kernel.accessAllowed ? 'block' : 'none';\n",
              "\n",
              "        async function convertToInteractive(key) {\n",
              "          const element = document.querySelector('#df-0e523fcc-bc75-4ced-baf8-950db2e3edc7');\n",
              "          const dataTable =\n",
              "            await google.colab.kernel.invokeFunction('convertToInteractive',\n",
              "                                                     [key], {});\n",
              "          if (!dataTable) return;\n",
              "\n",
              "          const docLinkHtml = 'Like what you see? Visit the ' +\n",
              "            '<a target=\"_blank\" href=https://colab.research.google.com/notebooks/data_table.ipynb>data table notebook</a>'\n",
              "            + ' to learn more about interactive tables.';\n",
              "          element.innerHTML = '';\n",
              "          dataTable['output_type'] = 'display_data';\n",
              "          await google.colab.output.renderOutput(dataTable, element);\n",
              "          const docLink = document.createElement('div');\n",
              "          docLink.innerHTML = docLinkHtml;\n",
              "          element.appendChild(docLink);\n",
              "        }\n",
              "      </script>\n",
              "    </div>\n",
              "  </div>\n",
              "  "
            ]
          },
          "metadata": {},
          "execution_count": 3
        }
      ]
    },
    {
      "cell_type": "code",
      "source": [
        "#set the inputs and outputs\n",
        "p1a = ['area', 'bedrooms', 'bathrooms', 'stories', 'parking']\n",
        "input = df1[p1a] #for problem 1a, this changes in problem 2\n",
        "output = df1.iloc[:,0]\n",
        "\n",
        "#split data into training and testing sets\n",
        "np.random.seed(0)\n",
        "xtrain, xtest, ytrain, ytest = train_test_split(input, output, train_size = 0.8, test_size = 0.2)\n",
        "#ytrain, ytest = train_test_split(output, train_size = 0.8, test_size = 0.2)\n",
        "print(xtrain) #debug purposes\n",
        "print(ytrain) #debug purposes\n",
        "\n",
        "#concat ones vector like in hw0 problems\n",
        "xtrain = pd.concat([pd.Series(1, index=xtrain.index, name='00'), xtrain], axis=1)\n",
        "xtest = pd.concat([pd.Series(1, index=xtest.index, name='00'), xtest], axis=1)\n",
        "\n",
        "#get the value of m for both sets (no. examples)\n",
        "trainm = len(ytrain)\n",
        "testm = len(ytest)"
      ],
      "metadata": {
        "colab": {
          "base_uri": "https://localhost:8080/"
        },
        "id": "hQFAJJKNDKNc",
        "outputId": "61eefb94-e757-4410-d91e-582033d36a90"
      },
      "execution_count": 4,
      "outputs": [
        {
          "output_type": "stream",
          "name": "stdout",
          "text": [
            "      area  bedrooms  bathrooms  stories  parking\n",
            "542   3620         2          1        1        0\n",
            "496   4000         2          1        1        0\n",
            "484   3040         2          1        1        0\n",
            "507   3600         2          1        1        0\n",
            "252   9860         3          1        1        0\n",
            "..     ...       ...        ...      ...      ...\n",
            "70    4000         3          2        2        0\n",
            "277  10360         2          1        1        1\n",
            "9     5750         3          2        4        1\n",
            "359   3600         3          1        1        1\n",
            "192   6600         3          1        1        0\n",
            "\n",
            "[436 rows x 5 columns]\n",
            "542    1750000\n",
            "496    2695000\n",
            "484    2870000\n",
            "507    2590000\n",
            "252    4515000\n",
            "        ...   \n",
            "70     6790000\n",
            "277    4305000\n",
            "9      9800000\n",
            "359    3710000\n",
            "192    5040000\n",
            "Name: price, Length: 436, dtype: int64\n"
          ]
        }
      ]
    },
    {
      "cell_type": "code",
      "source": [
        "#create our thetas\n",
        "thetatrain = np.array([0]*len(xtrain.columns))\n",
        "thetatest = np.array([0]*len(xtest.columns))\n",
        "print(thetatrain) #print for verification\n",
        "\n",
        "#other variables for testing\n",
        "iterations = 1500\n",
        "alpha = 0.0000000005 #does not converge unless extremely small value is used"
      ],
      "metadata": {
        "colab": {
          "base_uri": "https://localhost:8080/"
        },
        "id": "VjvHP8VsICDZ",
        "outputId": "e122335a-9a00-4349-bed4-7d51ba53356a"
      },
      "execution_count": 5,
      "outputs": [
        {
          "output_type": "stream",
          "name": "stdout",
          "text": [
            "[0 0 0 0 0 0]\n"
          ]
        }
      ]
    },
    {
      "cell_type": "code",
      "source": [
        "#functions (ported from last hw)\n",
        "\n",
        "#linear regression loss for x (using formula from class)\n",
        "#generalized so it can be reused for x1, x2, x3\n",
        "def compute_loss(x, y, theta, m): \n",
        "  #only change is generalized m\n",
        "\n",
        "  predictions = x.dot(theta) \n",
        "  errors = np.subtract(predictions, y) \n",
        "  sqrErrors = np.square(errors) \n",
        "  J = 1 / (2 * m) * np.sum(sqrErrors) \n",
        " \n",
        "  return J \n",
        "\n",
        "#py version of gradient descent formula from class\n",
        "#generalized so it can be reused for x1, x2, x3\n",
        "def gradient_descent(input, y, theta, m, alpha, iterations): \n",
        "\n",
        "  loss_history = np.zeros(iterations) \n",
        " \n",
        "  for i in range(iterations): \n",
        "    predictions = input.dot(theta) \n",
        "    errors = np.subtract(predictions, y) \n",
        "    sum_delta = (alpha / m) * input.transpose().dot(errors); \n",
        "    theta = theta - sum_delta; \n",
        "    loss_history[i] = compute_loss(input, y, theta, m)   \n",
        "    \n",
        "  return theta, loss_history "
      ],
      "metadata": {
        "id": "MifPD1j7IgrX"
      },
      "execution_count": 6,
      "outputs": []
    },
    {
      "cell_type": "code",
      "source": [
        "#perform loss for both sets and print the values\n",
        "losstrain = compute_loss(xtrain, ytrain, thetatrain, trainm) \n",
        "print('training loss =', losstrain) \n",
        "\n",
        "losstest = compute_loss(xtest, ytest, thetatest,testm) \n",
        "print('testing loss =', losstest) "
      ],
      "metadata": {
        "colab": {
          "base_uri": "https://localhost:8080/"
        },
        "id": "T0f-wwViJLj1",
        "outputId": "906f2c44-0adf-4dcb-f88c-24f0eeb873b6"
      },
      "execution_count": 7,
      "outputs": [
        {
          "output_type": "stream",
          "name": "stdout",
          "text": [
            "training loss = 13234989983633.717\n",
            "testing loss = 12594621888761.469\n"
          ]
        }
      ]
    },
    {
      "cell_type": "code",
      "source": [
        "#perform gradient descent for training set\n",
        "thetatrain = np.array([0]*len(xtrain.columns))\n",
        "\n",
        "thetatrain, losstrain = gradient_descent(xtrain, ytrain, thetatrain, trainm, alpha, iterations)\n",
        "print('Final theta (training): \\n', thetatrain)\n"
      ],
      "metadata": {
        "colab": {
          "base_uri": "https://localhost:8080/"
        },
        "id": "gr_E9zjmOd1q",
        "outputId": "1fa09774-57c8-4fb8-c7b2-67b6f917b3e7"
      },
      "execution_count": 8,
      "outputs": [
        {
          "output_type": "stream",
          "name": "stdout",
          "text": [
            "Final theta (training): \n",
            " 00             0.399039\n",
            "area         861.036385\n",
            "bedrooms       1.430475\n",
            "bathrooms      0.750724\n",
            "stories        1.133287\n",
            "parking        0.368672\n",
            "dtype: float64\n"
          ]
        }
      ]
    },
    {
      "cell_type": "code",
      "source": [
        "#gradient descent for testing set\n",
        "thetatest = np.array([0]*len(xtest.columns))\n",
        "\n",
        "thetatest, losstest = gradient_descent(xtest, ytest, thetatest, testm, alpha, iterations)\n",
        "print('Final theta (testing): \\n', thetatest)"
      ],
      "metadata": {
        "colab": {
          "base_uri": "https://localhost:8080/"
        },
        "id": "F3nDKanAdghv",
        "outputId": "597a5884-e112-428f-c7bb-b72e66f0e1c1"
      },
      "execution_count": 9,
      "outputs": [
        {
          "output_type": "stream",
          "name": "stdout",
          "text": [
            "Final theta (testing): \n",
            " 00             0.455588\n",
            "area         834.814234\n",
            "bedrooms       1.509793\n",
            "bathrooms      0.813242\n",
            "stories        1.237392\n",
            "parking        0.237385\n",
            "dtype: float64\n"
          ]
        }
      ]
    },
    {
      "cell_type": "code",
      "source": [
        "#plot loss (two lines, one graph)\n",
        "plt.plot(range(1, iterations + 1),losstrain, color='magenta') \n",
        "plt.plot(range(1, iterations + 1),losstest, color='cyan') \n",
        "plt.rcParams[\"figure.figsize\"] = (10,6) \n",
        "plt.grid() \n",
        "plt.xlabel('no. iterations') \n",
        "plt.ylabel('loss (J)') \n",
        "plt.title('convergence of gradient descent (1a)') "
      ],
      "metadata": {
        "colab": {
          "base_uri": "https://localhost:8080/",
          "height": 312
        },
        "id": "CWbgTn4deRmc",
        "outputId": "26a97edf-5df1-4d79-9561-4522882bb889"
      },
      "execution_count": 10,
      "outputs": [
        {
          "output_type": "execute_result",
          "data": {
            "text/plain": [
              "Text(0.5, 1.0, 'convergence of gradient descent (1a)')"
            ]
          },
          "metadata": {},
          "execution_count": 10
        },
        {
          "output_type": "display_data",
          "data": {
            "text/plain": [
              "<Figure size 432x288 with 1 Axes>"
            ],
            "image/png": "[encoded data removed]"
          },
          "metadata": {
            "needs_background": "light"
          }
        }
      ]
    },
    {
      "cell_type": "markdown",
      "source": [
        "1.b) Develop a gradient decent training and evaluation code that predicts housing price based on the following input variables:\n",
        "\n",
        "Area, bedrooms, bathrooms, stories, mainroad, guestroom, basement, hotwaterheating, airconditioning, parking, prefarea\n",
        "\n",
        "Identify the best parameters for your linear regression model, based on the above input variables. \n",
        "\n",
        "Plot the training and validation losses (in a single graph, but two different lines) over your training iteration. Compare your linear regression model against problem 1 a. For the learning rate, explore different values between 0.1 and 0.01 (your choice). Initialize your parameters (thetas to zero). For the training iteration, choose what you believe fits the best. "
      ],
      "metadata": {
        "id": "oP9cyvzwe7bC"
      }
    },
    {
      "cell_type": "code",
      "source": [
        "#set the inputs and outputs\n",
        "p1b = ['area', 'bedrooms', 'bathrooms', 'stories', 'mainroad', 'guestroom', 'basement', 'hotwaterheating', 'airconditioning', 'parking', 'prefarea']\n",
        "input = df1[p1b] #for problem 1b\n",
        "output = df1.iloc[:,0]\n",
        "\n",
        "#split data into training and testing sets\n",
        "np.random.seed(0)\n",
        "xtrain, xtest, ytrain, ytest = train_test_split(input, output, train_size = 0.8, test_size = 0.2)\n",
        "#print(xtrain) #debug purposes\n",
        "#print(ytrain) #debug purposes\n",
        "\n",
        "#concat ones vector like in hw0 problems\n",
        "xtrain = pd.concat([pd.Series(1, index=xtrain.index, name='00'), xtrain], axis=1)\n",
        "xtest = pd.concat([pd.Series(1, index=xtest.index, name='00'), xtest], axis=1)\n",
        "\n",
        "#get the value of m for both sets (no. examples)\n",
        "trainm = len(ytrain)\n",
        "testm = len(ytest)"
      ],
      "metadata": {
        "id": "zrLtdE1SfAkL"
      },
      "execution_count": 11,
      "outputs": []
    },
    {
      "cell_type": "code",
      "source": [
        "#reset our thetas\n",
        "thetatrain = np.array([0]*len(xtrain.columns))\n",
        "thetatest = np.array([0]*len(xtest.columns))\n",
        "#print(thetatrain) #print for verification\n",
        "\n",
        "#other variables for testing\n",
        "iterations = 1500\n",
        "alpha = 0.0000000005 #does not converge unless extremely small value is used"
      ],
      "metadata": {
        "id": "D4jaA-A0fynR"
      },
      "execution_count": 12,
      "outputs": []
    },
    {
      "cell_type": "code",
      "source": [
        "#perform loss for both sets and print the values\n",
        "losstrain = compute_loss(xtrain, ytrain, thetatrain, trainm) \n",
        "print('training loss =', losstrain) \n",
        "\n",
        "losstest = compute_loss(xtest, ytest, thetatest,testm) \n",
        "print('testing loss =', losstest)"
      ],
      "metadata": {
        "colab": {
          "base_uri": "https://localhost:8080/"
        },
        "id": "dD4fW4zYfjue",
        "outputId": "4948a918-0110-4590-d0f9-05747577d816"
      },
      "execution_count": 13,
      "outputs": [
        {
          "output_type": "stream",
          "name": "stdout",
          "text": [
            "training loss = 13234989983633.717\n",
            "testing loss = 12594621888761.469\n"
          ]
        }
      ]
    },
    {
      "cell_type": "code",
      "source": [
        "#perform gradient descent for training set\n",
        "thetatrain = np.array([0]*len(xtrain.columns))\n",
        "\n",
        "thetatrain, losstrain = gradient_descent(xtrain, ytrain, thetatrain, trainm, alpha, iterations)\n",
        "print('Final theta (training): \\n', thetatrain)"
      ],
      "metadata": {
        "colab": {
          "base_uri": "https://localhost:8080/"
        },
        "id": "cRzcHh6gf7O2",
        "outputId": "22aeecd5-4e25-450d-d72f-be94c6683a03"
      },
      "execution_count": 14,
      "outputs": [
        {
          "output_type": "stream",
          "name": "stdout",
          "text": [
            "Final theta (training): \n",
            " 00                   0.399039\n",
            "area               861.036290\n",
            "bedrooms             1.430475\n",
            "bathrooms            0.750724\n",
            "stories              1.133287\n",
            "mainroad             0.361456\n",
            "guestroom            0.148668\n",
            "basement             0.244754\n",
            "hotwaterheating      0.057863\n",
            "airconditioning      0.282683\n",
            "parking              0.368672\n",
            "prefarea             0.163826\n",
            "dtype: float64\n"
          ]
        }
      ]
    },
    {
      "cell_type": "code",
      "source": [
        "#gradient descent for testing set\n",
        "thetatest = np.array([0]*len(xtest.columns))\n",
        "\n",
        "thetatest, losstest = gradient_descent(xtest, ytest, thetatest, testm, alpha, iterations)\n",
        "print('Final theta (testing): \\n', thetatest)"
      ],
      "metadata": {
        "colab": {
          "base_uri": "https://localhost:8080/"
        },
        "id": "plumtrPHf-Dy",
        "outputId": "8f34027b-b095-4173-9679-dd12651aa7d2"
      },
      "execution_count": 15,
      "outputs": [
        {
          "output_type": "stream",
          "name": "stdout",
          "text": [
            "Final theta (testing): \n",
            " 00                   0.455588\n",
            "area               834.814144\n",
            "bedrooms             1.509792\n",
            "bathrooms            0.813242\n",
            "stories              1.237392\n",
            "mainroad             0.369749\n",
            "guestroom            0.097901\n",
            "basement             0.222160\n",
            "hotwaterheating      0.015271\n",
            "airconditioning      0.300202\n",
            "parking              0.237385\n",
            "prefarea             0.135720\n",
            "dtype: float64\n"
          ]
        }
      ]
    },
    {
      "cell_type": "code",
      "source": [
        "#plot loss (two lines, one graph)\n",
        "plt.plot(range(1, iterations + 1),losstrain, color='magenta') \n",
        "plt.plot(range(1, iterations + 1),losstest, color='cyan') \n",
        "plt.rcParams[\"figure.figsize\"] = (10,6) \n",
        "plt.grid() \n",
        "plt.xlabel('no. iterations') \n",
        "plt.ylabel('loss (J)') \n",
        "plt.title('convergence of gradient descent (1b)') "
      ],
      "metadata": {
        "colab": {
          "base_uri": "https://localhost:8080/",
          "height": 421
        },
        "id": "p9GMOAYLgAp0",
        "outputId": "ff72117f-a9cd-4fca-9769-196f9532fd11"
      },
      "execution_count": 16,
      "outputs": [
        {
          "output_type": "execute_result",
          "data": {
            "text/plain": [
              "Text(0.5, 1.0, 'convergence of gradient descent (1b)')"
            ]
          },
          "metadata": {},
          "execution_count": 16
        },
        {
          "output_type": "display_data",
          "data": {
            "text/plain": [
              "<Figure size 720x432 with 1 Axes>"
            ],
            "image/png": "[encoded data removed]"
          },
          "metadata": {
            "needs_background": "light"
          }
        }
      ]
    },
    {
      "cell_type": "markdown",
      "source": [
        "Problem 2 (30 points)\n",
        "\n",
        "2.a) Repeat problem 1 a, this time with input normalization and input standardization as part of your pre-processing logic. You need to perform two separate trainings for standardization and normalization. \n",
        "\n",
        "Plot the training and validation losses for both training and validation set based on input standardization and input normalization. Compare your training accuracy between both scaling approaches as well as the baseline training in problem 1 a. Which input scaling achieves the best training? Explain your results."
      ],
      "metadata": {
        "id": "VWwWqmmuf9g7"
      }
    },
    {
      "cell_type": "code",
      "source": [
        "#configure data sets\n",
        "dfnorm = pd.read_csv(data_set)\n",
        "dfstand = pd.read_csv(data_set)"
      ],
      "metadata": {
        "id": "ZNxnbjbSghJ1"
      },
      "execution_count": 17,
      "outputs": []
    },
    {
      "cell_type": "code",
      "source": [
        "#convert dataframes\n",
        "dfnorm[varlist] = dfnorm[varlist].apply(binarymap)\n",
        "dfstand[varlist] = dfstand[varlist].apply(binarymap)"
      ],
      "metadata": {
        "id": "iGt3zkLJigi8"
      },
      "execution_count": 18,
      "outputs": []
    },
    {
      "cell_type": "code",
      "source": [
        "#normalize\n",
        "newvars = ['area', 'bedrooms', 'bathrooms', 'stories', 'parking', 'price']\n",
        "scaler = MinMaxScaler()\n",
        "dfnorm[newvars] = scaler.fit_transform(dfnorm[newvars])\n",
        "\n",
        "#standardize\n",
        "scaler = StandardScaler()\n",
        "dfstand[newvars] = scaler.fit_transform(dfstand[newvars])"
      ],
      "metadata": {
        "id": "TUgyhJpgi5gx"
      },
      "execution_count": 19,
      "outputs": []
    },
    {
      "cell_type": "code",
      "source": [
        "#NORMALIZED DATA:\n",
        "#set the inputs and outputs\n",
        "norm_input = dfnorm[p1a]\n",
        "norm_output = dfnorm.iloc[:,0]\n",
        "\n",
        "#split data into training and testing sets\n",
        "np.random.seed(0)\n",
        "norm_xtrain, norm_xtest, norm_ytrain, norm_ytest = train_test_split(norm_input, norm_output, train_size = 0.8, test_size = 0.2)\n",
        "\n",
        "#concat ones vector like in hw0 problems\n",
        "norm_xtrain = pd.concat([pd.Series(1, index=norm_xtrain.index, name='00'), norm_xtrain], axis=1)\n",
        "norm_xtest = pd.concat([pd.Series(1, index=norm_xtest.index, name='00'), norm_xtest], axis=1)\n",
        "\n",
        "#get the value of m for both sets (no. examples)\n",
        "norm_trainm = len(norm_ytrain)\n",
        "norm_testm = len(norm_ytest)"
      ],
      "metadata": {
        "id": "8cLDHXB7kuyn"
      },
      "execution_count": 20,
      "outputs": []
    },
    {
      "cell_type": "code",
      "source": [
        "#STANDARDIZED DATA:\n",
        "#set the inputs and outputs\n",
        "stand_input = dfstand[p1a]\n",
        "stand_output = dfstand.iloc[:,0]\n",
        "\n",
        "#split data into training and testing sets\n",
        "np.random.seed(0)\n",
        "stand_xtrain, stand_xtest, stand_ytrain, stand_ytest = train_test_split(stand_input, stand_output, train_size = 0.8, test_size = 0.2)\n",
        "\n",
        "#concat ones vector\n",
        "stand_xtrain = pd.concat([pd.Series(1, index=stand_xtrain.index, name='00'), stand_xtrain], axis=1)\n",
        "stand_xtest = pd.concat([pd.Series(1, index=stand_xtest.index, name='00'), stand_xtest], axis=1)\n",
        "\n",
        "#get the value of m for both sets (no. examples)\n",
        "stand_trainm = len(stand_ytrain)\n",
        "stand_testm = len(stand_ytest)"
      ],
      "metadata": {
        "id": "uA_h4lEAmAyA"
      },
      "execution_count": 21,
      "outputs": []
    },
    {
      "cell_type": "code",
      "source": [
        "#reset our thetas\n",
        "norm_thetatrain = np.array([0]*len(norm_xtrain.columns))\n",
        "norm_thetatest = np.array([0]*len(norm_xtest.columns))\n",
        "\n",
        "stand_thetatrain = np.array([0]*len(stand_xtrain.columns))\n",
        "stand_thetatest = np.array([0]*len(stand_xtest.columns))\n",
        "\n",
        "#other variables for testing\n",
        "iterations = 1500\n",
        "alpha = 0.01"
      ],
      "metadata": {
        "id": "sMnJghr2meT2"
      },
      "execution_count": 22,
      "outputs": []
    },
    {
      "cell_type": "code",
      "source": [
        "#NORMALIZED perform loss for both sets and print the values\n",
        "norm_losstrain = compute_loss(norm_xtrain, norm_ytrain, norm_thetatrain, norm_trainm) \n",
        "print('normalized training loss =', norm_losstrain) \n",
        "\n",
        "norm_losstest = compute_loss(norm_xtest, norm_ytest, norm_thetatest,norm_testm) \n",
        "print('normalized testing loss =', norm_losstest)\n",
        "\n",
        "#STANDARDIZED perform loss for both sets and print the values\n",
        "stand_losstrain = compute_loss(stand_xtrain, stand_ytrain, stand_thetatrain, stand_trainm) \n",
        "print('normalized training loss =', stand_losstrain) \n",
        "\n",
        "stand_losstest = compute_loss(stand_xtest, stand_ytest, stand_thetatest,stand_testm) \n",
        "print('standardized testing loss =', stand_losstest)"
      ],
      "metadata": {
        "colab": {
          "base_uri": "https://localhost:8080/"
        },
        "id": "FG7pAPT9mq06",
        "outputId": "f5671a5b-29d4-4d78-d358-c39583f46b50"
      },
      "execution_count": 23,
      "outputs": [
        {
          "output_type": "stream",
          "name": "stdout",
          "text": [
            "normalized training loss = 0.04801543008963699\n",
            "normalized testing loss = 0.04393049047607012\n",
            "normalized training loss = 0.5217884456417313\n",
            "standardized testing loss = 0.4128462174330742\n"
          ]
        }
      ]
    },
    {
      "cell_type": "code",
      "source": [
        "#NORMALIZED:\n",
        "#perform gradient descent for training set\n",
        "norm_thetatrain = np.array([0]*len(norm_xtrain.columns))\n",
        "\n",
        "norm_thetatrain, norm_losstrain = gradient_descent(norm_xtrain, norm_ytrain, norm_thetatrain, norm_trainm, alpha, iterations)\n",
        "print('NORMALIZED Final theta (training): \\n', norm_thetatrain)\n",
        "\n",
        "#gradient descent for testing set\n",
        "norm_thetatest = np.array([0]*len(norm_xtest.columns))\n",
        "\n",
        "norm_thetatest, norm_losstest = gradient_descent(norm_xtest, norm_ytest, norm_thetatest, norm_testm, alpha, iterations)\n",
        "print('NORMALIZED Final theta (testing): \\n', norm_thetatest)"
      ],
      "metadata": {
        "colab": {
          "base_uri": "https://localhost:8080/"
        },
        "id": "f2ClQkiOneBX",
        "outputId": "ed6419d1-c269-4b27-8c27-b323f4058bc0"
      },
      "execution_count": 24,
      "outputs": [
        {
          "output_type": "stream",
          "name": "stdout",
          "text": [
            "NORMALIZED Final theta (training): \n",
            " 00           0.109389\n",
            "area         0.150793\n",
            "bedrooms     0.102187\n",
            "bathrooms    0.129455\n",
            "stories      0.139002\n",
            "parking      0.125887\n",
            "dtype: float64\n",
            "NORMALIZED Final theta (testing): \n",
            " 00           0.120850\n",
            "area         0.144361\n",
            "bedrooms     0.065628\n",
            "bathrooms    0.134837\n",
            "stories      0.144007\n",
            "parking      0.136511\n",
            "dtype: float64\n"
          ]
        }
      ]
    },
    {
      "cell_type": "code",
      "source": [
        "#STANDARDIZED:\n",
        "#perform gradient descent for training set\n",
        "stand_thetatrain = np.array([0]*len(stand_xtrain.columns))\n",
        "\n",
        "stand_thetatrain, stand_losstrain = gradient_descent(stand_xtrain, stand_ytrain, stand_thetatrain, stand_trainm, alpha, iterations)\n",
        "print('STANDARDIZED Final theta (training): \\n', stand_thetatrain)\n",
        "\n",
        "#gradient descent for testing set\n",
        "stand_thetatest = np.array([0]*len(stand_xtest.columns))\n",
        "\n",
        "stand_thetatest, stand_losstest = gradient_descent(stand_xtest, stand_ytest, stand_thetatest, stand_testm, alpha, iterations)\n",
        "print('STANDARDIZED Final theta (testing): \\n', stand_thetatest)"
      ],
      "metadata": {
        "colab": {
          "base_uri": "https://localhost:8080/"
        },
        "id": "NcsSlGeCoFL-",
        "outputId": "17ca424d-ddf7-4f3d-d1c3-bb080bf7e739"
      },
      "execution_count": 25,
      "outputs": [
        {
          "output_type": "stream",
          "name": "stdout",
          "text": [
            "STANDARDIZED Final theta (training): \n",
            " 00           0.003658\n",
            "area         0.402664\n",
            "bedrooms     0.090386\n",
            "bathrooms    0.319570\n",
            "stories      0.243954\n",
            "parking      0.161167\n",
            "dtype: float64\n",
            "STANDARDIZED Final theta (testing): \n",
            " 00          -0.000679\n",
            "area         0.310736\n",
            "bedrooms    -0.042381\n",
            "bathrooms    0.273706\n",
            "stories      0.295756\n",
            "parking      0.226981\n",
            "dtype: float64\n"
          ]
        }
      ]
    },
    {
      "cell_type": "code",
      "source": [
        "#NORMALIZED\n",
        "#plot loss (two lines, one graph)\n",
        "plt.plot(range(1, iterations + 1),norm_losstrain, color='magenta') \n",
        "plt.plot(range(1, iterations + 1),norm_losstest, color='cyan') \n",
        "plt.rcParams[\"figure.figsize\"] = (10,6) \n",
        "plt.grid() \n",
        "plt.xlabel('no. iterations') \n",
        "plt.ylabel('loss (J)') \n",
        "plt.title('NORMALIZED convergence of gradient descent (2a)') "
      ],
      "metadata": {
        "colab": {
          "base_uri": "https://localhost:8080/",
          "height": 421
        },
        "id": "MuzhMJ8DognM",
        "outputId": "70630fc1-adb9-4d1b-8071-e6ad51c90a65"
      },
      "execution_count": 26,
      "outputs": [
        {
          "output_type": "execute_result",
          "data": {
            "text/plain": [
              "Text(0.5, 1.0, 'NORMALIZED convergence of gradient descent (2a)')"
            ]
          },
          "metadata": {},
          "execution_count": 26
        },
        {
          "output_type": "display_data",
          "data": {
            "text/plain": [
              "<Figure size 720x432 with 1 Axes>"
            ],
            "image/png": "[encoded data removed]"
          },
          "metadata": {
            "needs_background": "light"
          }
        }
      ]
    },
    {
      "cell_type": "code",
      "source": [
        "#STANDARDIZED\n",
        "#plot loss (two lines, one graph)\n",
        "plt.plot(range(1, iterations + 1),stand_losstrain, color='magenta') \n",
        "plt.plot(range(1, iterations + 1),stand_losstest, color='cyan') \n",
        "plt.rcParams[\"figure.figsize\"] = (10,6) \n",
        "plt.grid() \n",
        "plt.xlabel('no. iterations') \n",
        "plt.ylabel('loss (J)') \n",
        "plt.title('STANDARDIZED convergence of gradient descent (2a)') "
      ],
      "metadata": {
        "colab": {
          "base_uri": "https://localhost:8080/",
          "height": 421
        },
        "id": "IxZJQf6apFdM",
        "outputId": "50863b42-3dbf-4e3f-9103-2def7313f7d5"
      },
      "execution_count": 27,
      "outputs": [
        {
          "output_type": "execute_result",
          "data": {
            "text/plain": [
              "Text(0.5, 1.0, 'STANDARDIZED convergence of gradient descent (2a)')"
            ]
          },
          "metadata": {},
          "execution_count": 27
        },
        {
          "output_type": "display_data",
          "data": {
            "text/plain": [
              "<Figure size 720x432 with 1 Axes>"
            ],
            "image/png": "[encoded data removed]"
          },
          "metadata": {
            "needs_background": "light"
          }
        }
      ]
    },
    {
      "cell_type": "markdown",
      "source": [
        "2.b) Repeat problem 1 b, this time with input normalization and input standardization as part of your pre-processing logic. You need to perform two separate trainings for standardization and normalization. \n",
        "\n",
        "Plot the training and validation losses for both training and validation set based on input standardization and input normalization. Compare your training accuracy between both scaling approaches as well as the baseline training in problem 1 b. Which input scaling achieves the best training? Explain your results."
      ],
      "metadata": {
        "id": "irF6IKaZpTSB"
      }
    },
    {
      "cell_type": "code",
      "source": [
        "#NORMALIZED DATA:\n",
        "#set the inputs and outputs\n",
        "norm_input = dfnorm[p1b]\n",
        "norm_output = dfnorm.iloc[:,0]\n",
        "\n",
        "#split data into training and testing sets\n",
        "np.random.seed(0)\n",
        "norm_xtrain, norm_xtest, norm_ytrain, norm_ytest = train_test_split(norm_input, norm_output, train_size = 0.8, test_size = 0.2)\n",
        "\n",
        "#concat ones vector like in hw0 problems\n",
        "norm_xtrain = pd.concat([pd.Series(1, index=norm_xtrain.index, name='00'), norm_xtrain], axis=1)\n",
        "norm_xtest = pd.concat([pd.Series(1, index=norm_xtest.index, name='00'), norm_xtest], axis=1)\n",
        "\n",
        "#get the value of m for both sets (no. examples)\n",
        "norm_trainm = len(norm_ytrain)\n",
        "norm_testm = len(norm_ytest)"
      ],
      "metadata": {
        "id": "t9j-pgWgpVXu"
      },
      "execution_count": 28,
      "outputs": []
    },
    {
      "cell_type": "code",
      "source": [
        "#STANDARDIZED DATA:\n",
        "#set the inputs and outputs\n",
        "stand_input = dfstand[p1b]\n",
        "stand_output = dfstand.iloc[:,0]\n",
        "\n",
        "#split data into training and testing sets\n",
        "np.random.seed(0)\n",
        "stand_xtrain, stand_xtest, stand_ytrain, stand_ytest = train_test_split(stand_input, stand_output, train_size = 0.8, test_size = 0.2)\n",
        "\n",
        "#concat ones vector\n",
        "stand_xtrain = pd.concat([pd.Series(1, index=stand_xtrain.index, name='00'), stand_xtrain], axis=1)\n",
        "stand_xtest = pd.concat([pd.Series(1, index=stand_xtest.index, name='00'), stand_xtest], axis=1)\n",
        "\n",
        "#get the value of m for both sets (no. examples)\n",
        "stand_trainm = len(stand_ytrain)\n",
        "stand_testm = len(stand_ytest)"
      ],
      "metadata": {
        "id": "8iqzE2pappbD"
      },
      "execution_count": 29,
      "outputs": []
    },
    {
      "cell_type": "code",
      "source": [
        "#reset our thetas\n",
        "norm_thetatrain = np.array([0]*len(norm_xtrain.columns))\n",
        "norm_thetatest = np.array([0]*len(norm_xtest.columns))\n",
        "\n",
        "stand_thetatrain = np.array([0]*len(stand_xtrain.columns))\n",
        "stand_thetatest = np.array([0]*len(stand_xtest.columns))"
      ],
      "metadata": {
        "id": "kN_5-dKOp-Rk"
      },
      "execution_count": 30,
      "outputs": []
    },
    {
      "cell_type": "code",
      "source": [
        "#NORMALIZED perform loss for both sets and print the values\n",
        "norm_losstrain = compute_loss(norm_xtrain, norm_ytrain, norm_thetatrain, norm_trainm) \n",
        "print('normalized training loss =', norm_losstrain) \n",
        "\n",
        "norm_losstest = compute_loss(norm_xtest, norm_ytest, norm_thetatest,norm_testm) \n",
        "print('normalized testing loss =', norm_losstest)\n",
        "\n",
        "#STANDARDIZED perform loss for both sets and print the values\n",
        "stand_losstrain = compute_loss(stand_xtrain, stand_ytrain, stand_thetatrain, stand_trainm) \n",
        "print('normalized training loss =', stand_losstrain) \n",
        "\n",
        "stand_losstest = compute_loss(stand_xtest, stand_ytest, stand_thetatest,stand_testm) \n",
        "print('standardized testing loss =', stand_losstest)"
      ],
      "metadata": {
        "colab": {
          "base_uri": "https://localhost:8080/"
        },
        "id": "hvEd_VdWqDda",
        "outputId": "08dfcd17-8a92-46ea-b7b5-c492f10bf6d0"
      },
      "execution_count": 31,
      "outputs": [
        {
          "output_type": "stream",
          "name": "stdout",
          "text": [
            "normalized training loss = 0.04801543008963699\n",
            "normalized testing loss = 0.04393049047607012\n",
            "normalized training loss = 0.5217884456417313\n",
            "standardized testing loss = 0.4128462174330742\n"
          ]
        }
      ]
    },
    {
      "cell_type": "code",
      "source": [
        "#NORMALIZED:\n",
        "#perform gradient descent for training set\n",
        "norm_thetatrain = np.array([0]*len(norm_xtrain.columns))\n",
        "\n",
        "norm_thetatrain, norm_losstrain = gradient_descent(norm_xtrain, norm_ytrain, norm_thetatrain, norm_trainm, alpha, iterations)\n",
        "print('NORMALIZED Final theta (training): \\n', norm_thetatrain)\n",
        "\n",
        "#gradient descent for testing set\n",
        "norm_thetatest = np.array([0]*len(norm_xtest.columns))\n",
        "\n",
        "norm_thetatest, norm_losstest = gradient_descent(norm_xtest, norm_ytest, norm_thetatest, norm_testm, alpha, iterations)\n",
        "print('NORMALIZED Final theta (testing): \\n', norm_thetatest)"
      ],
      "metadata": {
        "colab": {
          "base_uri": "https://localhost:8080/"
        },
        "id": "3xFq61tuqGqe",
        "outputId": "42f6db4a-56e7-4b74-dd5c-1a28aeaed6c4"
      },
      "execution_count": 32,
      "outputs": [
        {
          "output_type": "stream",
          "name": "stdout",
          "text": [
            "NORMALIZED Final theta (training): \n",
            " 00                 0.038536\n",
            "area               0.098657\n",
            "bedrooms           0.067438\n",
            "bathrooms          0.107700\n",
            "stories            0.107688\n",
            "mainroad           0.052297\n",
            "guestroom          0.048505\n",
            "basement           0.029722\n",
            "hotwaterheating    0.053750\n",
            "airconditioning    0.094004\n",
            "parking            0.088705\n",
            "prefarea           0.077049\n",
            "dtype: float64\n",
            "NORMALIZED Final theta (testing): \n",
            " 00                 0.044399\n",
            "area               0.102135\n",
            "bedrooms           0.054409\n",
            "bathrooms          0.121008\n",
            "stories            0.107846\n",
            "mainroad           0.067521\n",
            "guestroom         -0.002835\n",
            "basement           0.038806\n",
            "hotwaterheating    0.016171\n",
            "airconditioning    0.102181\n",
            "parking            0.118844\n",
            "prefarea           0.009920\n",
            "dtype: float64\n"
          ]
        }
      ]
    },
    {
      "cell_type": "code",
      "source": [
        "#STANDARDIZED:\n",
        "#perform gradient descent for training set\n",
        "stand_thetatrain = np.array([0]*len(stand_xtrain.columns))\n",
        "\n",
        "stand_thetatrain, stand_losstrain = gradient_descent(stand_xtrain, stand_ytrain, stand_thetatrain, stand_trainm, alpha, iterations)\n",
        "print('STANDARDIZED Final theta (training): \\n', stand_thetatrain)\n",
        "\n",
        "#gradient descent for testing set\n",
        "stand_thetatest = np.array([0]*len(stand_xtest.columns))\n",
        "\n",
        "stand_thetatest, stand_losstest = gradient_descent(stand_xtest, stand_ytest, stand_thetatest, stand_testm, alpha, iterations)\n",
        "print('STANDARDIZED Final theta (testing): \\n', stand_thetatest)"
      ],
      "metadata": {
        "colab": {
          "base_uri": "https://localhost:8080/"
        },
        "id": "Rx7H-1OAqJ1H",
        "outputId": "506846ee-43d7-4bcf-8808-15490cf7573e"
      },
      "execution_count": 33,
      "outputs": [
        {
          "output_type": "stream",
          "name": "stdout",
          "text": [
            "STANDARDIZED Final theta (training): \n",
            " 00                -0.379139\n",
            "area               0.315981\n",
            "bedrooms           0.058781\n",
            "bathrooms          0.280461\n",
            "stories            0.222326\n",
            "mainroad           0.080774\n",
            "guestroom          0.215474\n",
            "basement           0.197584\n",
            "hotwaterheating    0.227280\n",
            "airconditioning    0.393569\n",
            "parking            0.135045\n",
            "prefarea           0.348431\n",
            "dtype: float64\n",
            "STANDARDIZED Final theta (testing): \n",
            " 00                -0.382504\n",
            "area               0.259371\n",
            "bedrooms          -0.014591\n",
            "bathrooms          0.257345\n",
            "stories            0.248267\n",
            "mainroad           0.151594\n",
            "guestroom         -0.026915\n",
            "basement           0.253436\n",
            "hotwaterheating    0.058321\n",
            "airconditioning    0.435541\n",
            "parking            0.231631\n",
            "prefarea           0.159978\n",
            "dtype: float64\n"
          ]
        }
      ]
    },
    {
      "cell_type": "code",
      "source": [
        "#NORMALIZED\n",
        "#plot loss (two lines, one graph)\n",
        "plt.plot(range(1, iterations + 1),norm_losstrain, color='magenta') \n",
        "plt.plot(range(1, iterations + 1),norm_losstest, color='cyan') \n",
        "plt.rcParams[\"figure.figsize\"] = (10,6) \n",
        "plt.grid() \n",
        "plt.xlabel('no. iterations') \n",
        "plt.ylabel('loss (J)') \n",
        "plt.title('NORMALIZED convergence of gradient descent (2b)') "
      ],
      "metadata": {
        "colab": {
          "base_uri": "https://localhost:8080/",
          "height": 421
        },
        "id": "zbH6-v3wqOdk",
        "outputId": "0ddd6c25-d6fe-405a-8cef-d991fee06a98"
      },
      "execution_count": 34,
      "outputs": [
        {
          "output_type": "execute_result",
          "data": {
            "text/plain": [
              "Text(0.5, 1.0, 'NORMALIZED convergence of gradient descent (2b)')"
            ]
          },
          "metadata": {},
          "execution_count": 34
        },
        {
          "output_type": "display_data",
          "data": {
            "text/plain": [
              "<Figure size 720x432 with 1 Axes>"
            ],
            "image/png": "[encoded data removed]"
          },
          "metadata": {
            "needs_background": "light"
          }
        }
      ]
    },
    {
      "cell_type": "code",
      "source": [
        "#STANDARDIZED\n",
        "#plot loss (two lines, one graph)\n",
        "plt.plot(range(1, iterations + 1),stand_losstrain, color='magenta') \n",
        "plt.plot(range(1, iterations + 1),stand_losstest, color='cyan') \n",
        "plt.rcParams[\"figure.figsize\"] = (10,6) \n",
        "plt.grid() \n",
        "plt.xlabel('no. iterations') \n",
        "plt.ylabel('loss (J)') \n",
        "plt.title('STANDARDIZED convergence of gradient descent (2b)') "
      ],
      "metadata": {
        "colab": {
          "base_uri": "https://localhost:8080/",
          "height": 421
        },
        "id": "SBeR2K-PqPya",
        "outputId": "0e3ef385-0d8a-4bb0-a671-65a36b3636ae"
      },
      "execution_count": 35,
      "outputs": [
        {
          "output_type": "execute_result",
          "data": {
            "text/plain": [
              "Text(0.5, 1.0, 'STANDARDIZED convergence of gradient descent (2b)')"
            ]
          },
          "metadata": {},
          "execution_count": 35
        },
        {
          "output_type": "display_data",
          "data": {
            "text/plain": [
              "<Figure size 720x432 with 1 Axes>"
            ],
            "image/png": "[encoded data removed]"
          },
          "metadata": {
            "needs_background": "light"
          }
        }
      ]
    },
    {
      "cell_type": "markdown",
      "source": [
        "Problem 3 (40 points)\n",
        "\n",
        "3.a) Repeat problem 2 a, this time by adding parameters penalty to your loss function. Note that in this case, you need to modify the gradient decent logic for your training set, but you don’t need to change your loss for the evaluation set.  \n",
        "\n",
        "Plot your results (both training and evaluation losses) for the best input scaling approach (standardization or normalization). Explain your results and compare them against problem 2 a. "
      ],
      "metadata": {
        "id": "y646Z9z1qqmT"
      }
    },
    {
      "cell_type": "code",
      "source": [
        "#NORMALIZED DATA:\n",
        "#set the inputs and outputs\n",
        "norm_input = dfnorm[p1a]\n",
        "norm_output = dfnorm.iloc[:,0]\n",
        "\n",
        "#split data into training and testing sets\n",
        "np.random.seed(0)\n",
        "norm_xtrain, norm_xtest, norm_ytrain, norm_ytest = train_test_split(norm_input, norm_output, train_size = 0.8, test_size = 0.2)\n",
        "\n",
        "#concat ones vector like in hw0 problems\n",
        "norm_xtrain = pd.concat([pd.Series(1, index=norm_xtrain.index, name='00'), norm_xtrain], axis=1)\n",
        "norm_xtest = pd.concat([pd.Series(1, index=norm_xtest.index, name='00'), norm_xtest], axis=1)\n",
        "\n",
        "#get the value of m for both sets (no. examples)\n",
        "norm_trainm = len(norm_ytrain)\n",
        "norm_testm = len(norm_ytest)"
      ],
      "metadata": {
        "id": "1yTwuN_dqrWw"
      },
      "execution_count": 36,
      "outputs": []
    },
    {
      "cell_type": "code",
      "source": [
        "#STANDARDIZED DATA:\n",
        "#set the inputs and outputs\n",
        "stand_input = dfstand[p1a]\n",
        "stand_output = dfstand.iloc[:,0]\n",
        "\n",
        "#split data into training and testing sets\n",
        "np.random.seed(0)\n",
        "stand_xtrain, stand_xtest, stand_ytrain, stand_ytest = train_test_split(stand_input, stand_output, train_size = 0.8, test_size = 0.2)\n",
        "\n",
        "#concat ones vector\n",
        "stand_xtrain = pd.concat([pd.Series(1, index=stand_xtrain.index, name='00'), stand_xtrain], axis=1)\n",
        "stand_xtest = pd.concat([pd.Series(1, index=stand_xtest.index, name='00'), stand_xtest], axis=1)\n",
        "\n",
        "#get the value of m for both sets (no. examples)\n",
        "stand_trainm = len(stand_ytrain)\n",
        "stand_testm = len(stand_ytest)"
      ],
      "metadata": {
        "id": "AD5H90UcrSzp"
      },
      "execution_count": 37,
      "outputs": []
    },
    {
      "cell_type": "code",
      "source": [
        "#reset our thetas\n",
        "norm_thetatrain = np.array([0]*len(norm_xtrain.columns))\n",
        "norm_thetatest = np.array([0]*len(norm_xtest.columns))\n",
        "\n",
        "stand_thetatrain = np.array([0]*len(stand_xtrain.columns))\n",
        "stand_thetatest = np.array([0]*len(stand_xtest.columns))\n",
        "\n",
        "#other variables for testing\n",
        "iterations = 1500\n",
        "alpha = 0.01"
      ],
      "metadata": {
        "id": "kHlHD6nQrdq5"
      },
      "execution_count": 38,
      "outputs": []
    },
    {
      "cell_type": "code",
      "source": [
        "#NORMALIZED perform loss for both sets and print the values\n",
        "norm_losstrain = compute_loss(norm_xtrain, norm_ytrain, norm_thetatrain, norm_trainm) \n",
        "print('normalized training loss =', norm_losstrain) \n",
        "\n",
        "norm_losstest = compute_loss(norm_xtest, norm_ytest, norm_thetatest,norm_testm) \n",
        "print('normalized testing loss =', norm_losstest)\n",
        "\n",
        "#STANDARDIZED perform loss for both sets and print the values\n",
        "stand_losstrain = compute_loss(stand_xtrain, stand_ytrain, stand_thetatrain, stand_trainm) \n",
        "print('normalized training loss =', stand_losstrain) \n",
        "\n",
        "stand_losstest = compute_loss(stand_xtest, stand_ytest, stand_thetatest,stand_testm) \n",
        "print('standardized testing loss =', stand_losstest)"
      ],
      "metadata": {
        "colab": {
          "base_uri": "https://localhost:8080/"
        },
        "id": "gC_CE35ZrrQ5",
        "outputId": "6252c9bc-6adb-4b05-e327-209b9ddeeff5"
      },
      "execution_count": 39,
      "outputs": [
        {
          "output_type": "stream",
          "name": "stdout",
          "text": [
            "normalized training loss = 0.04801543008963699\n",
            "normalized testing loss = 0.04393049047607012\n",
            "normalized training loss = 0.5217884456417313\n",
            "standardized testing loss = 0.4128462174330742\n"
          ]
        }
      ]
    },
    {
      "cell_type": "code",
      "source": [
        "# redefine gradient descent with penalty function added:\n",
        "lamb = 0.01 #constant, amount of penalty to add\n",
        "def pgradient_descent(input, y, theta, m, alpha, iterations): \n",
        "\n",
        "  loss_history = np.zeros(iterations) \n",
        " \n",
        "  for i in range(iterations): \n",
        "    predictions = input.dot(theta) \n",
        "    errors = np.subtract(predictions, y) \n",
        "    sum_delta = (alpha / m) * input.transpose().dot(errors); \n",
        "\n",
        "    #ADD PENALTY:\n",
        "    if i > 0:\n",
        "      sum_delta += ((alpha*lamb) / m) * theta # formula from class\n",
        "\n",
        "    theta = theta - sum_delta; \n",
        "    loss_history[i] = compute_loss(input, y, theta, m)   \n",
        "    \n",
        "  return theta, loss_history "
      ],
      "metadata": {
        "id": "u0Y8UvEDrs5I"
      },
      "execution_count": 40,
      "outputs": []
    },
    {
      "cell_type": "code",
      "source": [
        "#NORMALIZED:\n",
        "#perform gradient descent for training set\n",
        "norm_thetatrain = np.array([0]*len(norm_xtrain.columns))\n",
        "\n",
        "norm_thetatrain, norm_losstrain = pgradient_descent(norm_xtrain, norm_ytrain, norm_thetatrain, norm_trainm, alpha, iterations)\n",
        "print('NORMALIZED Final theta (training): \\n', norm_thetatrain)\n",
        "\n",
        "#gradient descent for testing set\n",
        "norm_thetatest = np.array([0]*len(norm_xtest.columns))\n",
        "\n",
        "norm_thetatest, norm_losstest = pgradient_descent(norm_xtest, norm_ytest, norm_thetatest, norm_testm, alpha, iterations)\n",
        "print('NORMALIZED Final theta (testing): \\n', norm_thetatest)"
      ],
      "metadata": {
        "colab": {
          "base_uri": "https://localhost:8080/"
        },
        "id": "wae9h094s6Lt",
        "outputId": "8509ec09-f5ae-4bbc-e636-b3ad432bfbc0"
      },
      "execution_count": 41,
      "outputs": [
        {
          "output_type": "stream",
          "name": "stdout",
          "text": [
            "NORMALIZED Final theta (training): \n",
            " 00           0.109398\n",
            "area         0.150776\n",
            "bedrooms     0.102182\n",
            "bathrooms    0.129438\n",
            "stories      0.138990\n",
            "parking      0.125877\n",
            "dtype: float64\n",
            "NORMALIZED Final theta (testing): \n",
            " 00           0.120880\n",
            "area         0.144299\n",
            "bedrooms     0.065634\n",
            "bathrooms    0.134770\n",
            "stories      0.143955\n",
            "parking      0.136457\n",
            "dtype: float64\n"
          ]
        }
      ]
    },
    {
      "cell_type": "code",
      "source": [
        "#STANDARDIZED:\n",
        "#perform gradient descent for training set\n",
        "stand_thetatrain = np.array([0]*len(stand_xtrain.columns))\n",
        "\n",
        "stand_thetatrain, stand_losstrain = pgradient_descent(stand_xtrain, stand_ytrain, stand_thetatrain, stand_trainm, alpha, iterations)\n",
        "print('STANDARDIZED Final theta (training): \\n', stand_thetatrain)\n",
        "\n",
        "#gradient descent for testing set\n",
        "stand_thetatest = np.array([0]*len(stand_xtest.columns))\n",
        "\n",
        "stand_thetatest, stand_losstest = pgradient_descent(stand_xtest, stand_ytest, stand_thetatest, stand_testm, alpha, iterations)\n",
        "print('STANDARDIZED Final theta (testing): \\n', stand_thetatest)"
      ],
      "metadata": {
        "colab": {
          "base_uri": "https://localhost:8080/"
        },
        "id": "pU0vYtpDs8mG",
        "outputId": "8bce8a1c-9ca6-49dd-bebd-3abb495b6567"
      },
      "execution_count": 42,
      "outputs": [
        {
          "output_type": "stream",
          "name": "stdout",
          "text": [
            "STANDARDIZED Final theta (training): \n",
            " 00           0.003658\n",
            "area         0.402655\n",
            "bedrooms     0.090389\n",
            "bathrooms    0.319563\n",
            "stories      0.243950\n",
            "parking      0.161167\n",
            "dtype: float64\n",
            "STANDARDIZED Final theta (testing): \n",
            " 00          -0.000682\n",
            "area         0.310719\n",
            "bedrooms    -0.042356\n",
            "bathrooms    0.273694\n",
            "stories      0.295724\n",
            "parking      0.226965\n",
            "dtype: float64\n"
          ]
        }
      ]
    },
    {
      "cell_type": "code",
      "source": [
        "#NORMALIZED\n",
        "#plot loss (two lines, one graph)\n",
        "plt.plot(range(1, iterations + 1),norm_losstrain, color='magenta') \n",
        "plt.plot(range(1, iterations + 1),norm_losstest, color='cyan') \n",
        "plt.rcParams[\"figure.figsize\"] = (10,6) \n",
        "plt.grid() \n",
        "plt.xlabel('no. iterations') \n",
        "plt.ylabel('loss (J)') \n",
        "plt.title('NORMALIZED convergence of gradient descent w/penalty (3a)') "
      ],
      "metadata": {
        "colab": {
          "base_uri": "https://localhost:8080/",
          "height": 421
        },
        "id": "_zAykmh8tDNt",
        "outputId": "ecdbe363-92a7-497b-ca99-e3acd528419b"
      },
      "execution_count": 43,
      "outputs": [
        {
          "output_type": "execute_result",
          "data": {
            "text/plain": [
              "Text(0.5, 1.0, 'NORMALIZED convergence of gradient descent w/penalty (3a)')"
            ]
          },
          "metadata": {},
          "execution_count": 43
        },
        {
          "output_type": "display_data",
          "data": {
            "text/plain": [
              "<Figure size 720x432 with 1 Axes>"
            ],
            "image/png": "[encoded data removed]"
          },
          "metadata": {
            "needs_background": "light"
          }
        }
      ]
    },
    {
      "cell_type": "code",
      "source": [
        "#STANDARDIZED\n",
        "#plot loss (two lines, one graph)\n",
        "plt.plot(range(1, iterations + 1),stand_losstrain, color='magenta') \n",
        "plt.plot(range(1, iterations + 1),stand_losstest, color='cyan') \n",
        "plt.rcParams[\"figure.figsize\"] = (10,6) \n",
        "plt.grid() \n",
        "plt.xlabel('no. iterations') \n",
        "plt.ylabel('loss (J)') \n",
        "plt.title('STANDARDIZED convergence of gradient descent w/penalty (3a)') "
      ],
      "metadata": {
        "colab": {
          "base_uri": "https://localhost:8080/",
          "height": 421
        },
        "id": "sD1DSqg5tHqO",
        "outputId": "051c7677-519a-4f3f-ba39-d1dfab2fa1e7"
      },
      "execution_count": 44,
      "outputs": [
        {
          "output_type": "execute_result",
          "data": {
            "text/plain": [
              "Text(0.5, 1.0, 'STANDARDIZED convergence of gradient descent w/penalty (3a)')"
            ]
          },
          "metadata": {},
          "execution_count": 44
        },
        {
          "output_type": "display_data",
          "data": {
            "text/plain": [
              "<Figure size 720x432 with 1 Axes>"
            ],
            "image/png": "[encoded data removed]"
          },
          "metadata": {
            "needs_background": "light"
          }
        }
      ]
    },
    {
      "cell_type": "markdown",
      "source": [
        "3.b) Repeat problem 2 b, this time by adding parameters penalty to your loss function. Note that in this case, you need to modify the gradient decent logic for your training set, but you don’t need to change your loss for the evaluation set.  \n",
        "\n",
        "Plot your results (both training and evaluation losses) for the best input scaling approach (standardization or normalization). Explain your results and compare them against problem 2 b. "
      ],
      "metadata": {
        "id": "9bf8VNi9tKd9"
      }
    },
    {
      "cell_type": "code",
      "source": [
        "#NORMALIZED DATA:\n",
        "#set the inputs and outputs\n",
        "norm_input = dfnorm[p1b]\n",
        "norm_output = dfnorm.iloc[:,0]\n",
        "\n",
        "#split data into training and testing sets\n",
        "np.random.seed(1)\n",
        "norm_xtrain, norm_xtest, norm_ytrain, norm_ytest = train_test_split(norm_input, norm_output, train_size = 0.8, test_size = 0.2)\n",
        "\n",
        "#concat ones vector like in hw0 problems\n",
        "norm_xtrain = pd.concat([pd.Series(1, index=norm_xtrain.index, name='00'), norm_xtrain], axis=1)\n",
        "norm_xtest = pd.concat([pd.Series(1, index=norm_xtest.index, name='00'), norm_xtest], axis=1)\n",
        "\n",
        "#get the value of m for both sets (no. examples)\n",
        "norm_trainm = len(norm_ytrain)\n",
        "norm_testm = len(norm_ytest)"
      ],
      "metadata": {
        "id": "eDb0cObxtNNs"
      },
      "execution_count": 53,
      "outputs": []
    },
    {
      "cell_type": "code",
      "source": [
        "#STANDARDIZED DATA:\n",
        "#set the inputs and outputs\n",
        "stand_input = dfstand[p1b]\n",
        "stand_output = dfstand.iloc[:,0]\n",
        "\n",
        "#split data into training and testing sets\n",
        "np.random.seed(1)\n",
        "stand_xtrain, stand_xtest, stand_ytrain, stand_ytest = train_test_split(stand_input, stand_output, train_size = 0.8, test_size = 0.2)\n",
        "\n",
        "#concat ones vector\n",
        "stand_xtrain = pd.concat([pd.Series(1, index=stand_xtrain.index, name='00'), stand_xtrain], axis=1)\n",
        "stand_xtest = pd.concat([pd.Series(1, index=stand_xtest.index, name='00'), stand_xtest], axis=1)\n",
        "\n",
        "#get the value of m for both sets (no. examples)\n",
        "stand_trainm = len(stand_ytrain)\n",
        "stand_testm = len(stand_ytest)"
      ],
      "metadata": {
        "id": "A2N0MjMNuVtN"
      },
      "execution_count": 54,
      "outputs": []
    },
    {
      "cell_type": "code",
      "source": [
        "#reset our thetas\n",
        "norm_thetatrain = np.array([0]*len(norm_xtrain.columns))\n",
        "norm_thetatest = np.array([0]*len(norm_xtest.columns))\n",
        "\n",
        "stand_thetatrain = np.array([0]*len(stand_xtrain.columns))\n",
        "stand_thetatest = np.array([0]*len(stand_xtest.columns))"
      ],
      "metadata": {
        "id": "m2ZlM8APuYjF"
      },
      "execution_count": 55,
      "outputs": []
    },
    {
      "cell_type": "code",
      "source": [
        "#NORMALIZED perform loss for both sets and print the values\n",
        "norm_losstrain = compute_loss(norm_xtrain, norm_ytrain, norm_thetatrain, norm_trainm) \n",
        "print('normalized training loss =', norm_losstrain) \n",
        "\n",
        "norm_losstest = compute_loss(norm_xtest, norm_ytest, norm_thetatest,norm_testm) \n",
        "print('normalized testing loss =', norm_losstest)\n",
        "\n",
        "#STANDARDIZED perform loss for both sets and print the values\n",
        "stand_losstrain = compute_loss(stand_xtrain, stand_ytrain, stand_thetatrain, stand_trainm) \n",
        "print('normalized training loss =', stand_losstrain) \n",
        "\n",
        "stand_losstest = compute_loss(stand_xtest, stand_ytest, stand_thetatest,stand_testm) \n",
        "print('standardized testing loss =', stand_losstest)"
      ],
      "metadata": {
        "colab": {
          "base_uri": "https://localhost:8080/"
        },
        "id": "9ZS6ZBqKuaFs",
        "outputId": "0484c150-eb4a-4c0f-f3f6-8946ed08f2fa"
      },
      "execution_count": 56,
      "outputs": [
        {
          "output_type": "stream",
          "name": "stdout",
          "text": [
            "normalized training loss = 0.04658187592834096\n",
            "normalized testing loss = 0.04966470712125424\n",
            "normalized training loss = 0.47468816293655375\n",
            "standardized testing loss = 0.6012473482537845\n"
          ]
        }
      ]
    },
    {
      "cell_type": "code",
      "source": [
        "#NORMALIZED:\n",
        "#perform gradient descent for training set\n",
        "norm_thetatrain = np.array([0]*len(norm_xtrain.columns))\n",
        "\n",
        "norm_thetatrain, norm_losstrain = pgradient_descent(norm_xtrain, norm_ytrain, norm_thetatrain, norm_trainm, alpha, iterations)\n",
        "print('NORMALIZED Final theta (training): \\n', norm_thetatrain)\n",
        "\n",
        "#gradient descent for testing set\n",
        "norm_thetatest = np.array([0]*len(norm_xtest.columns))\n",
        "\n",
        "norm_thetatest, norm_losstest = pgradient_descent(norm_xtest, norm_ytest, norm_thetatest, norm_testm, alpha, iterations)\n",
        "print('NORMALIZED Final theta (testing): \\n', norm_thetatest)"
      ],
      "metadata": {
        "colab": {
          "base_uri": "https://localhost:8080/"
        },
        "id": "Xd_d3i53ueQP",
        "outputId": "55a1a008-e2c1-440c-a040-1a47b63c6134"
      },
      "execution_count": 57,
      "outputs": [
        {
          "output_type": "stream",
          "name": "stdout",
          "text": [
            "NORMALIZED Final theta (training): \n",
            " 00                 0.040925\n",
            "area               0.097148\n",
            "bedrooms           0.066502\n",
            "bathrooms          0.117696\n",
            "stories            0.111609\n",
            "mainroad           0.056551\n",
            "guestroom          0.044937\n",
            "basement           0.037810\n",
            "hotwaterheating    0.047080\n",
            "airconditioning    0.080053\n",
            "parking            0.092157\n",
            "prefarea           0.061377\n",
            "dtype: float64\n",
            "NORMALIZED Final theta (testing): \n",
            " 00                 0.033103\n",
            "area               0.119838\n",
            "bedrooms           0.057029\n",
            "bathrooms          0.085256\n",
            "stories            0.101005\n",
            "mainroad           0.047497\n",
            "guestroom          0.018866\n",
            "basement          -0.001194\n",
            "hotwaterheating    0.039078\n",
            "airconditioning    0.149549\n",
            "parking            0.097991\n",
            "prefarea           0.082081\n",
            "dtype: float64\n"
          ]
        }
      ]
    },
    {
      "cell_type": "code",
      "source": [
        "#STANDARDIZED:\n",
        "#perform gradient descent for training set\n",
        "stand_thetatrain = np.array([0]*len(stand_xtrain.columns))\n",
        "\n",
        "stand_thetatrain, stand_losstrain = pgradient_descent(stand_xtrain, stand_ytrain, stand_thetatrain, stand_trainm, alpha, iterations)\n",
        "print('STANDARDIZED Final theta (training): \\n', stand_thetatrain)\n",
        "\n",
        "#gradient descent for testing set\n",
        "stand_thetatest = np.array([0]*len(stand_xtest.columns))\n",
        "\n",
        "stand_thetatest, stand_losstest = pgradient_descent(stand_xtest, stand_ytest, stand_thetatest, stand_testm, alpha, iterations)\n",
        "print('STANDARDIZED Final theta (testing): \\n', stand_thetatest)"
      ],
      "metadata": {
        "colab": {
          "base_uri": "https://localhost:8080/"
        },
        "id": "K9L-2bb2ugHX",
        "outputId": "aac78aa6-be3d-49f8-a10b-9b9fc16beceb"
      },
      "execution_count": 58,
      "outputs": [
        {
          "output_type": "stream",
          "name": "stdout",
          "text": [
            "STANDARDIZED Final theta (training): \n",
            " 00                -0.382037\n",
            "area               0.290160\n",
            "bedrooms           0.032268\n",
            "bathrooms          0.290474\n",
            "stories            0.249415\n",
            "mainroad           0.106737\n",
            "guestroom          0.188628\n",
            "basement           0.261146\n",
            "hotwaterheating    0.208216\n",
            "airconditioning    0.301778\n",
            "parking            0.146869\n",
            "prefarea           0.304468\n",
            "dtype: float64\n",
            "STANDARDIZED Final theta (testing): \n",
            " 00                -0.328215\n",
            "area               0.454008\n",
            "bedrooms           0.081618\n",
            "bathrooms          0.187440\n",
            "stories            0.144995\n",
            "mainroad          -0.005568\n",
            "guestroom          0.091291\n",
            "basement          -0.071895\n",
            "hotwaterheating    0.076140\n",
            "airconditioning    0.733198\n",
            "parking            0.131542\n",
            "prefarea           0.478442\n",
            "dtype: float64\n"
          ]
        }
      ]
    },
    {
      "cell_type": "code",
      "source": [
        "#NORMALIZED\n",
        "#plot loss (two lines, one graph)\n",
        "plt.plot(range(1, iterations + 1),norm_losstrain, color='magenta') \n",
        "plt.plot(range(1, iterations + 1),norm_losstest, color='cyan') \n",
        "plt.rcParams[\"figure.figsize\"] = (10,6) \n",
        "plt.grid() \n",
        "plt.xlabel('no. iterations') \n",
        "plt.ylabel('loss (J)') \n",
        "plt.title('NORMALIZED convergence of gradient descent w/penalty (3b)') "
      ],
      "metadata": {
        "colab": {
          "base_uri": "https://localhost:8080/",
          "height": 421
        },
        "id": "G42tTGzYuoV1",
        "outputId": "8fc01422-2141-424c-87de-831b526ab19f"
      },
      "execution_count": 59,
      "outputs": [
        {
          "output_type": "execute_result",
          "data": {
            "text/plain": [
              "Text(0.5, 1.0, 'NORMALIZED convergence of gradient descent w/penalty (3b)')"
            ]
          },
          "metadata": {},
          "execution_count": 59
        },
        {
          "output_type": "display_data",
          "data": {
            "text/plain": [
              "<Figure size 720x432 with 1 Axes>"
            ],
            "image/png": "[encoded data removed]"
          },
          "metadata": {
            "needs_background": "light"
          }
        }
      ]
    },
    {
      "cell_type": "code",
      "source": [
        "#STANDARDIZED\n",
        "#plot loss (two lines, one graph)\n",
        "plt.plot(range(1, iterations + 1),stand_losstrain, color='magenta') \n",
        "plt.plot(range(1, iterations + 1),stand_losstest, color='cyan') \n",
        "plt.rcParams[\"figure.figsize\"] = (10,6) \n",
        "plt.grid() \n",
        "plt.xlabel('no. iterations') \n",
        "plt.ylabel('loss (J)') \n",
        "plt.title('STANDARDIZED convergence of gradient descent w/penalty (3b)') "
      ],
      "metadata": {
        "colab": {
          "base_uri": "https://localhost:8080/",
          "height": 421
        },
        "id": "FcJdm4FUurR0",
        "outputId": "b4194b28-a93d-4d27-a94d-06bdf1a1590a"
      },
      "execution_count": 60,
      "outputs": [
        {
          "output_type": "execute_result",
          "data": {
            "text/plain": [
              "Text(0.5, 1.0, 'STANDARDIZED convergence of gradient descent w/penalty (3b)')"
            ]
          },
          "metadata": {},
          "execution_count": 60
        },
        {
          "output_type": "display_data",
          "data": {
            "text/plain": [
              "<Figure size 720x432 with 1 Axes>"
            ],
            "image/png": "[encoded data removed]"
          },
          "metadata": {
            "needs_background": "light"
          }
        }
      ]
    }
  ]
}